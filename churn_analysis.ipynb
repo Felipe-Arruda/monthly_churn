{
 "cells": [
  {
   "cell_type": "markdown",
   "id": "65077f21",
   "metadata": {},
   "source": [
    "# 0.0 IMPORTS\n"
   ]
  },
  {
   "cell_type": "code",
   "execution_count": 1,
   "id": "8b5c5ed4",
   "metadata": {
    "ExecuteTime": {
     "end_time": "2022-09-11T14:06:57.731300Z",
     "start_time": "2022-09-11T14:06:54.496409Z"
    }
   },
   "outputs": [],
   "source": [
    "import pandas as pd\n",
    "import seaborn as sns\n",
    "import numpy as np\n",
    "\n",
    "\n",
    "from matplotlib import pyplot as plt\n",
    "from IPython.core.display import HTML\n",
    "from IPython.display import Image"
   ]
  },
  {
   "cell_type": "markdown",
   "id": "4c650433",
   "metadata": {},
   "source": [
    "## 0.1. Helper Functions"
   ]
  },
  {
   "cell_type": "code",
   "execution_count": 2,
   "id": "cce02fdb",
   "metadata": {
    "ExecuteTime": {
     "end_time": "2022-09-11T14:06:57.811147Z",
     "start_time": "2022-09-11T14:06:57.736302Z"
    }
   },
   "outputs": [
    {
     "name": "stdout",
     "output_type": "stream",
     "text": [
      "%pylab is deprecated, use %matplotlib inline and import the required libraries.\n",
      "Populating the interactive namespace from numpy and matplotlib\n"
     ]
    },
    {
     "data": {
      "text/html": [
       "<style>.container { width:100% !important; }</style>"
      ],
      "text/plain": [
       "<IPython.core.display.HTML object>"
      ]
     },
     "metadata": {},
     "output_type": "display_data"
    }
   ],
   "source": [
    "def jupyter_settings():\n",
    "    %matplotlib inline\n",
    "    %pylab inline\n",
    "    \n",
    "    plt.style.use( 'bmh' )\n",
    "    plt.rcParams['figure.figsize'] = [25, 12]\n",
    "    plt.rcParams['font.size'] = 24\n",
    "    \n",
    "    display( HTML( '<style>.container { width:100% !important; }</style>') )\n",
    "    pd.options.display.max_columns = None\n",
    "    pd.options.display.max_rows = None\n",
    "    pd.set_option( 'display.expand_frame_repr', False )\n",
    "    \n",
    "    sns.set()\n",
    "    \n",
    "jupyter_settings()"
   ]
  },
  {
   "cell_type": "markdown",
   "id": "7610c95d",
   "metadata": {},
   "source": [
    "## 0.2 Loading Data"
   ]
  },
  {
   "cell_type": "code",
   "execution_count": 221,
   "id": "b1845cfa",
   "metadata": {
    "ExecuteTime": {
     "end_time": "2022-09-11T17:09:06.555737Z",
     "start_time": "2022-09-11T17:09:03.902251Z"
    }
   },
   "outputs": [],
   "source": [
    "df_base_clientes_raw = pd.read_csv('datasets/base_clientes.csv', delimiter=';', encoding='utf-8', low_memory=False)\n",
    "df_base_contratos_raw = pd.read_csv('datasets/base_contratos.csv', delimiter=';', encoding='utf-8', low_memory=False)\n",
    "\n",
    "#merge\n",
    "df_raw = pd.merge(df_base_clientes_raw, df_base_contratos_raw, how='left', on='cd_cliente')"
   ]
  },
  {
   "cell_type": "code",
   "execution_count": 222,
   "id": "fc758712",
   "metadata": {
    "ExecuteTime": {
     "end_time": "2022-09-11T17:09:07.478504Z",
     "start_time": "2022-09-11T17:09:07.308602Z"
    }
   },
   "outputs": [
    {
     "data": {
      "text/html": [
       "<div>\n",
       "<style scoped>\n",
       "    .dataframe tbody tr th:only-of-type {\n",
       "        vertical-align: middle;\n",
       "    }\n",
       "\n",
       "    .dataframe tbody tr th {\n",
       "        vertical-align: top;\n",
       "    }\n",
       "\n",
       "    .dataframe thead th {\n",
       "        text-align: right;\n",
       "    }\n",
       "</style>\n",
       "<table border=\"1\" class=\"dataframe\">\n",
       "  <thead>\n",
       "    <tr style=\"text-align: right;\">\n",
       "      <th></th>\n",
       "      <th>cd_cliente</th>\n",
       "      <th>nome_cliente</th>\n",
       "      <th>aquisição_cliente</th>\n",
       "      <th>cidade_retirada</th>\n",
       "      <th>cidade_devolucao</th>\n",
       "      <th>cd_contrato</th>\n",
       "      <th>transporte_locado</th>\n",
       "      <th>data_abertura_contrato</th>\n",
       "      <th>qtd_diarias</th>\n",
       "      <th>data_fechamento_contrato</th>\n",
       "      <th>qtd_hora_extra</th>\n",
       "      <th>valor_contrato</th>\n",
       "    </tr>\n",
       "  </thead>\n",
       "  <tbody>\n",
       "    <tr>\n",
       "      <th>212315</th>\n",
       "      <td>6017</td>\n",
       "      <td>Adriana</td>\n",
       "      <td>Facebook Ads - Instagram</td>\n",
       "      <td>Gotham City</td>\n",
       "      <td>Gotham City</td>\n",
       "      <td>GTH019197</td>\n",
       "      <td>Tumbler Batman</td>\n",
       "      <td>06/07/2019 15:11</td>\n",
       "      <td>1</td>\n",
       "      <td>07/07/2019 15:11</td>\n",
       "      <td>0</td>\n",
       "      <td>178</td>\n",
       "    </tr>\n",
       "    <tr>\n",
       "      <th>247034</th>\n",
       "      <td>7429</td>\n",
       "      <td>Carlos</td>\n",
       "      <td>Google Ads - Search</td>\n",
       "      <td>Basin City</td>\n",
       "      <td>Basin City</td>\n",
       "      <td>SIN039892</td>\n",
       "      <td>1955 Chevrolet Bel Air</td>\n",
       "      <td>27/02/2018 19:54</td>\n",
       "      <td>6</td>\n",
       "      <td>05/03/2018 19:54</td>\n",
       "      <td>0</td>\n",
       "      <td>2208</td>\n",
       "    </tr>\n",
       "    <tr>\n",
       "      <th>182105</th>\n",
       "      <td>4922</td>\n",
       "      <td>Jorge</td>\n",
       "      <td>Direct</td>\n",
       "      <td>South Park</td>\n",
       "      <td>South Park</td>\n",
       "      <td>STP053395</td>\n",
       "      <td>Patinete</td>\n",
       "      <td>31/07/2018 12:13</td>\n",
       "      <td>2</td>\n",
       "      <td>02/08/2018 12:13</td>\n",
       "      <td>0</td>\n",
       "      <td>458</td>\n",
       "    </tr>\n",
       "  </tbody>\n",
       "</table>\n",
       "</div>"
      ],
      "text/plain": [
       "        cd_cliente nome_cliente         aquisição_cliente cidade_retirada cidade_devolucao cd_contrato       transporte_locado data_abertura_contrato  qtd_diarias data_fechamento_contrato  qtd_hora_extra  valor_contrato\n",
       "212315        6017      Adriana  Facebook Ads - Instagram     Gotham City      Gotham City   GTH019197          Tumbler Batman       06/07/2019 15:11            1         07/07/2019 15:11               0             178\n",
       "247034        7429       Carlos       Google Ads - Search      Basin City       Basin City   SIN039892  1955 Chevrolet Bel Air       27/02/2018 19:54            6         05/03/2018 19:54               0            2208\n",
       "182105        4922        Jorge                    Direct      South Park       South Park   STP053395                Patinete       31/07/2018 12:13            2         02/08/2018 12:13               0             458"
      ]
     },
     "execution_count": 222,
     "metadata": {},
     "output_type": "execute_result"
    }
   ],
   "source": [
    "df_raw.sample(3)"
   ]
  },
  {
   "cell_type": "markdown",
   "id": "e5c89353",
   "metadata": {},
   "source": [
    "# 1.0 DESCRIÇÃO DOS DADOS"
   ]
  },
  {
   "cell_type": "code",
   "execution_count": 223,
   "id": "108c9228",
   "metadata": {
    "ExecuteTime": {
     "end_time": "2022-09-11T17:09:08.505088Z",
     "start_time": "2022-09-11T17:09:08.441124Z"
    }
   },
   "outputs": [
    {
     "data": {
      "text/html": [
       "<div>\n",
       "<style scoped>\n",
       "    .dataframe tbody tr th:only-of-type {\n",
       "        vertical-align: middle;\n",
       "    }\n",
       "\n",
       "    .dataframe tbody tr th {\n",
       "        vertical-align: top;\n",
       "    }\n",
       "\n",
       "    .dataframe thead th {\n",
       "        text-align: right;\n",
       "    }\n",
       "</style>\n",
       "<table border=\"1\" class=\"dataframe\">\n",
       "  <thead>\n",
       "    <tr style=\"text-align: right;\">\n",
       "      <th></th>\n",
       "      <th>cd_cliente</th>\n",
       "      <th>nome_cliente</th>\n",
       "      <th>aquisição_cliente</th>\n",
       "      <th>cidade_retirada</th>\n",
       "      <th>cidade_devolucao</th>\n",
       "      <th>cd_contrato</th>\n",
       "      <th>transporte_locado</th>\n",
       "      <th>data_abertura_contrato</th>\n",
       "      <th>qtd_diarias</th>\n",
       "      <th>data_fechamento_contrato</th>\n",
       "      <th>qtd_hora_extra</th>\n",
       "      <th>valor_contrato</th>\n",
       "    </tr>\n",
       "  </thead>\n",
       "  <tbody>\n",
       "    <tr>\n",
       "      <th>0</th>\n",
       "      <td>1</td>\n",
       "      <td>Rosa</td>\n",
       "      <td>Organic</td>\n",
       "      <td>Hogsmeade</td>\n",
       "      <td>Hogsmeade</td>\n",
       "      <td>HGM048798</td>\n",
       "      <td>Portal</td>\n",
       "      <td>26/01/2015 05:58</td>\n",
       "      <td>1</td>\n",
       "      <td>27/01/2015 05:58</td>\n",
       "      <td>0</td>\n",
       "      <td>229</td>\n",
       "    </tr>\n",
       "    <tr>\n",
       "      <th>1</th>\n",
       "      <td>1</td>\n",
       "      <td>Rosa</td>\n",
       "      <td>Organic</td>\n",
       "      <td>Springfield</td>\n",
       "      <td>Springfield</td>\n",
       "      <td>SPF030834</td>\n",
       "      <td>Ônibus Escolar</td>\n",
       "      <td>05/02/2015 15:10</td>\n",
       "      <td>1</td>\n",
       "      <td>06/02/2015 15:10</td>\n",
       "      <td>0</td>\n",
       "      <td>198</td>\n",
       "    </tr>\n",
       "    <tr>\n",
       "      <th>2</th>\n",
       "      <td>1</td>\n",
       "      <td>Rosa</td>\n",
       "      <td>Organic</td>\n",
       "      <td>Porto Real</td>\n",
       "      <td>Porto Real</td>\n",
       "      <td>PRL017782</td>\n",
       "      <td>Barco</td>\n",
       "      <td>04/05/2015 20:49</td>\n",
       "      <td>1</td>\n",
       "      <td>05/05/2015 20:49</td>\n",
       "      <td>0</td>\n",
       "      <td>436</td>\n",
       "    </tr>\n",
       "    <tr>\n",
       "      <th>3</th>\n",
       "      <td>1</td>\n",
       "      <td>Rosa</td>\n",
       "      <td>Organic</td>\n",
       "      <td>Basin City</td>\n",
       "      <td>Basin City</td>\n",
       "      <td>SIN042621</td>\n",
       "      <td>1960 Corvette</td>\n",
       "      <td>07/05/2015 07:34</td>\n",
       "      <td>1</td>\n",
       "      <td>08/05/2015 07:34</td>\n",
       "      <td>0</td>\n",
       "      <td>423</td>\n",
       "    </tr>\n",
       "    <tr>\n",
       "      <th>4</th>\n",
       "      <td>1</td>\n",
       "      <td>Rosa</td>\n",
       "      <td>Organic</td>\n",
       "      <td>Godric's Hollow</td>\n",
       "      <td>Godric's Hollow</td>\n",
       "      <td>GDH044954</td>\n",
       "      <td>Testralio</td>\n",
       "      <td>01/08/2015 11:14</td>\n",
       "      <td>2</td>\n",
       "      <td>03/08/2015 12:14</td>\n",
       "      <td>1</td>\n",
       "      <td>676</td>\n",
       "    </tr>\n",
       "  </tbody>\n",
       "</table>\n",
       "</div>"
      ],
      "text/plain": [
       "   cd_cliente nome_cliente aquisição_cliente  cidade_retirada cidade_devolucao cd_contrato transporte_locado data_abertura_contrato  qtd_diarias data_fechamento_contrato  qtd_hora_extra  valor_contrato\n",
       "0           1         Rosa           Organic        Hogsmeade        Hogsmeade   HGM048798            Portal       26/01/2015 05:58            1         27/01/2015 05:58               0             229\n",
       "1           1         Rosa           Organic      Springfield      Springfield   SPF030834    Ônibus Escolar       05/02/2015 15:10            1         06/02/2015 15:10               0             198\n",
       "2           1         Rosa           Organic       Porto Real       Porto Real   PRL017782             Barco       04/05/2015 20:49            1         05/05/2015 20:49               0             436\n",
       "3           1         Rosa           Organic       Basin City       Basin City   SIN042621     1960 Corvette       07/05/2015 07:34            1         08/05/2015 07:34               0             423\n",
       "4           1         Rosa           Organic  Godric's Hollow  Godric's Hollow   GDH044954         Testralio       01/08/2015 11:14            2         03/08/2015 12:14               1             676"
      ]
     },
     "execution_count": 223,
     "metadata": {},
     "output_type": "execute_result"
    }
   ],
   "source": [
    "df1 = df_raw.copy()\n",
    "df1.head()"
   ]
  },
  {
   "cell_type": "markdown",
   "id": "5a77f072",
   "metadata": {
    "ExecuteTime": {
     "end_time": "2022-09-09T18:25:20.407506Z",
     "start_time": "2022-09-09T18:25:20.398911Z"
    }
   },
   "source": [
    "## 1.1 Data Dimensions"
   ]
  },
  {
   "cell_type": "code",
   "execution_count": 224,
   "id": "77944cef",
   "metadata": {
    "ExecuteTime": {
     "end_time": "2022-09-11T17:09:09.377787Z",
     "start_time": "2022-09-11T17:09:09.360777Z"
    }
   },
   "outputs": [
    {
     "name": "stdout",
     "output_type": "stream",
     "text": [
      "Number of Rows: 480863\n",
      "Number of Columns: 12\n"
     ]
    }
   ],
   "source": [
    "print('Number of Rows: {}'.format(df1.shape[0]))\n",
    "print('Number of Columns: {}'.format(df1.shape[1]))"
   ]
  },
  {
   "cell_type": "markdown",
   "id": "db894dd7",
   "metadata": {},
   "source": [
    "## 1.2 Data Types"
   ]
  },
  {
   "cell_type": "code",
   "execution_count": 225,
   "id": "342ba052",
   "metadata": {
    "ExecuteTime": {
     "end_time": "2022-09-11T17:09:10.813712Z",
     "start_time": "2022-09-11T17:09:10.080798Z"
    }
   },
   "outputs": [
    {
     "name": "stdout",
     "output_type": "stream",
     "text": [
      "<class 'pandas.core.frame.DataFrame'>\n",
      "Int64Index: 480863 entries, 0 to 480862\n",
      "Data columns (total 12 columns):\n",
      " #   Column                    Non-Null Count   Dtype \n",
      "---  ------                    --------------   ----- \n",
      " 0   cd_cliente                480863 non-null  int64 \n",
      " 1   nome_cliente              480863 non-null  object\n",
      " 2   aquisição_cliente         480863 non-null  object\n",
      " 3   cidade_retirada           480863 non-null  object\n",
      " 4   cidade_devolucao          480863 non-null  object\n",
      " 5   cd_contrato               480863 non-null  object\n",
      " 6   transporte_locado         480863 non-null  object\n",
      " 7   data_abertura_contrato    480863 non-null  object\n",
      " 8   qtd_diarias               480863 non-null  int64 \n",
      " 9   data_fechamento_contrato  480863 non-null  object\n",
      " 10  qtd_hora_extra            480863 non-null  int64 \n",
      " 11  valor_contrato            480863 non-null  int64 \n",
      "dtypes: int64(4), object(8)\n",
      "memory usage: 47.7+ MB\n"
     ]
    }
   ],
   "source": [
    "df1.info()"
   ]
  },
  {
   "cell_type": "markdown",
   "id": "4fe856a6",
   "metadata": {},
   "source": [
    "Convertendo as variáveis temporais para o formato Datetime."
   ]
  },
  {
   "cell_type": "code",
   "execution_count": 226,
   "id": "1a2e8069",
   "metadata": {
    "ExecuteTime": {
     "end_time": "2022-09-11T17:09:16.319382Z",
     "start_time": "2022-09-11T17:09:11.441521Z"
    }
   },
   "outputs": [],
   "source": [
    "df1['data_abertura_contrato'] = pd.to_datetime( df1['data_abertura_contrato'], format='%d/%m/%Y %H:%M')\n",
    "df1['data_fechamento_contrato'] = pd.to_datetime( df1['data_fechamento_contrato'], format='%d/%m/%Y %H:%M')"
   ]
  },
  {
   "cell_type": "code",
   "execution_count": 227,
   "id": "543680a8",
   "metadata": {
    "ExecuteTime": {
     "end_time": "2022-09-11T17:09:17.154075Z",
     "start_time": "2022-09-11T17:09:17.122094Z"
    }
   },
   "outputs": [
    {
     "data": {
      "text/html": [
       "<div>\n",
       "<style scoped>\n",
       "    .dataframe tbody tr th:only-of-type {\n",
       "        vertical-align: middle;\n",
       "    }\n",
       "\n",
       "    .dataframe tbody tr th {\n",
       "        vertical-align: top;\n",
       "    }\n",
       "\n",
       "    .dataframe thead th {\n",
       "        text-align: right;\n",
       "    }\n",
       "</style>\n",
       "<table border=\"1\" class=\"dataframe\">\n",
       "  <thead>\n",
       "    <tr style=\"text-align: right;\">\n",
       "      <th></th>\n",
       "      <th>cd_cliente</th>\n",
       "      <th>nome_cliente</th>\n",
       "      <th>aquisição_cliente</th>\n",
       "      <th>cidade_retirada</th>\n",
       "      <th>cidade_devolucao</th>\n",
       "      <th>cd_contrato</th>\n",
       "      <th>transporte_locado</th>\n",
       "      <th>data_abertura_contrato</th>\n",
       "      <th>qtd_diarias</th>\n",
       "      <th>data_fechamento_contrato</th>\n",
       "      <th>qtd_hora_extra</th>\n",
       "      <th>valor_contrato</th>\n",
       "    </tr>\n",
       "  </thead>\n",
       "  <tbody>\n",
       "    <tr>\n",
       "      <th>0</th>\n",
       "      <td>1</td>\n",
       "      <td>Rosa</td>\n",
       "      <td>Organic</td>\n",
       "      <td>Hogsmeade</td>\n",
       "      <td>Hogsmeade</td>\n",
       "      <td>HGM048798</td>\n",
       "      <td>Portal</td>\n",
       "      <td>2015-01-26 05:58:00</td>\n",
       "      <td>1</td>\n",
       "      <td>2015-01-27 05:58:00</td>\n",
       "      <td>0</td>\n",
       "      <td>229</td>\n",
       "    </tr>\n",
       "    <tr>\n",
       "      <th>1</th>\n",
       "      <td>1</td>\n",
       "      <td>Rosa</td>\n",
       "      <td>Organic</td>\n",
       "      <td>Springfield</td>\n",
       "      <td>Springfield</td>\n",
       "      <td>SPF030834</td>\n",
       "      <td>Ônibus Escolar</td>\n",
       "      <td>2015-02-05 15:10:00</td>\n",
       "      <td>1</td>\n",
       "      <td>2015-02-06 15:10:00</td>\n",
       "      <td>0</td>\n",
       "      <td>198</td>\n",
       "    </tr>\n",
       "    <tr>\n",
       "      <th>2</th>\n",
       "      <td>1</td>\n",
       "      <td>Rosa</td>\n",
       "      <td>Organic</td>\n",
       "      <td>Porto Real</td>\n",
       "      <td>Porto Real</td>\n",
       "      <td>PRL017782</td>\n",
       "      <td>Barco</td>\n",
       "      <td>2015-05-04 20:49:00</td>\n",
       "      <td>1</td>\n",
       "      <td>2015-05-05 20:49:00</td>\n",
       "      <td>0</td>\n",
       "      <td>436</td>\n",
       "    </tr>\n",
       "    <tr>\n",
       "      <th>3</th>\n",
       "      <td>1</td>\n",
       "      <td>Rosa</td>\n",
       "      <td>Organic</td>\n",
       "      <td>Basin City</td>\n",
       "      <td>Basin City</td>\n",
       "      <td>SIN042621</td>\n",
       "      <td>1960 Corvette</td>\n",
       "      <td>2015-05-07 07:34:00</td>\n",
       "      <td>1</td>\n",
       "      <td>2015-05-08 07:34:00</td>\n",
       "      <td>0</td>\n",
       "      <td>423</td>\n",
       "    </tr>\n",
       "    <tr>\n",
       "      <th>4</th>\n",
       "      <td>1</td>\n",
       "      <td>Rosa</td>\n",
       "      <td>Organic</td>\n",
       "      <td>Godric's Hollow</td>\n",
       "      <td>Godric's Hollow</td>\n",
       "      <td>GDH044954</td>\n",
       "      <td>Testralio</td>\n",
       "      <td>2015-08-01 11:14:00</td>\n",
       "      <td>2</td>\n",
       "      <td>2015-08-03 12:14:00</td>\n",
       "      <td>1</td>\n",
       "      <td>676</td>\n",
       "    </tr>\n",
       "  </tbody>\n",
       "</table>\n",
       "</div>"
      ],
      "text/plain": [
       "   cd_cliente nome_cliente aquisição_cliente  cidade_retirada cidade_devolucao cd_contrato transporte_locado data_abertura_contrato  qtd_diarias data_fechamento_contrato  qtd_hora_extra  valor_contrato\n",
       "0           1         Rosa           Organic        Hogsmeade        Hogsmeade   HGM048798            Portal    2015-01-26 05:58:00            1      2015-01-27 05:58:00               0             229\n",
       "1           1         Rosa           Organic      Springfield      Springfield   SPF030834    Ônibus Escolar    2015-02-05 15:10:00            1      2015-02-06 15:10:00               0             198\n",
       "2           1         Rosa           Organic       Porto Real       Porto Real   PRL017782             Barco    2015-05-04 20:49:00            1      2015-05-05 20:49:00               0             436\n",
       "3           1         Rosa           Organic       Basin City       Basin City   SIN042621     1960 Corvette    2015-05-07 07:34:00            1      2015-05-08 07:34:00               0             423\n",
       "4           1         Rosa           Organic  Godric's Hollow  Godric's Hollow   GDH044954         Testralio    2015-08-01 11:14:00            2      2015-08-03 12:14:00               1             676"
      ]
     },
     "execution_count": 227,
     "metadata": {},
     "output_type": "execute_result"
    }
   ],
   "source": [
    "df1.head()"
   ]
  },
  {
   "cell_type": "markdown",
   "id": "1fe975b3",
   "metadata": {},
   "source": [
    "## 1.3 Check NA"
   ]
  },
  {
   "cell_type": "code",
   "execution_count": 228,
   "id": "75a8453e",
   "metadata": {
    "ExecuteTime": {
     "end_time": "2022-09-11T17:09:18.793805Z",
     "start_time": "2022-09-11T17:09:18.297069Z"
    }
   },
   "outputs": [
    {
     "data": {
      "text/plain": [
       "cd_cliente                  0\n",
       "nome_cliente                0\n",
       "aquisição_cliente           0\n",
       "cidade_retirada             0\n",
       "cidade_devolucao            0\n",
       "cd_contrato                 0\n",
       "transporte_locado           0\n",
       "data_abertura_contrato      0\n",
       "qtd_diarias                 0\n",
       "data_fechamento_contrato    0\n",
       "qtd_hora_extra              0\n",
       "valor_contrato              0\n",
       "dtype: int64"
      ]
     },
     "execution_count": 228,
     "metadata": {},
     "output_type": "execute_result"
    }
   ],
   "source": [
    "df1.isna().sum()"
   ]
  },
  {
   "cell_type": "markdown",
   "id": "bc88a3c3",
   "metadata": {},
   "source": [
    "O dataset não possui campos vazios."
   ]
  },
  {
   "cell_type": "markdown",
   "id": "d3645f0d",
   "metadata": {},
   "source": [
    "## 1.4 Descriptive Statistical\n",
    "Vou separar as variáveis numéricas das categóricas para ter uma ideia das dimensões dos dados."
   ]
  },
  {
   "cell_type": "code",
   "execution_count": 229,
   "id": "5ca3a6c2",
   "metadata": {
    "ExecuteTime": {
     "end_time": "2022-09-11T17:09:20.489385Z",
     "start_time": "2022-09-11T17:09:20.475391Z"
    }
   },
   "outputs": [],
   "source": [
    "num_attributes = df1.select_dtypes(include=['int64','float64'])\n",
    "cat_attributes = df1.select_dtypes(exclude=['int64','float64','datetime64[ns]'])"
   ]
  },
  {
   "cell_type": "markdown",
   "id": "fb313745",
   "metadata": {},
   "source": [
    "### 1.4.1 Numerical Attributes"
   ]
  },
  {
   "cell_type": "code",
   "execution_count": 230,
   "id": "b6c5eb88",
   "metadata": {
    "ExecuteTime": {
     "end_time": "2022-09-11T17:09:22.740444Z",
     "start_time": "2022-09-11T17:09:21.848787Z"
    }
   },
   "outputs": [],
   "source": [
    "# Central Tendency - mean, median\n",
    "ct1 = pd.DataFrame(num_attributes.apply(np.mean)).T\n",
    "ct2 = pd.DataFrame(num_attributes.apply(np.median)).T\n",
    "\n",
    "# Dispersion - std, min, max range, skew, kurtosis\n",
    "d1 = pd.DataFrame( num_attributes.apply( np.std ) ).T\n",
    "d2 = pd.DataFrame( num_attributes.apply( min ) ).T\n",
    "d3 = pd.DataFrame( num_attributes.apply( max ) ).T\n",
    "d4 = pd.DataFrame( num_attributes.apply( lambda x: x.max() - x.min() ) ).T\n",
    "d5 = pd.DataFrame( num_attributes.apply( lambda x: x.skew() ) ).T\n",
    "d6 = pd.DataFrame( num_attributes.apply( lambda x: x.kurtosis() ) ).T\n",
    "\n",
    "# Concatenate\n",
    "m = pd.concat( [d2, d3, d4, ct1, ct2, d1, d5, d6] ).T.reset_index()\n",
    "m.columns=['attributes','min','max','range','mean','median','std','skew','kurtosis'] "
   ]
  },
  {
   "cell_type": "code",
   "execution_count": 231,
   "id": "a54cd2ca",
   "metadata": {
    "ExecuteTime": {
     "end_time": "2022-09-11T17:09:23.146762Z",
     "start_time": "2022-09-11T17:09:23.112761Z"
    }
   },
   "outputs": [
    {
     "data": {
      "text/html": [
       "<div>\n",
       "<style scoped>\n",
       "    .dataframe tbody tr th:only-of-type {\n",
       "        vertical-align: middle;\n",
       "    }\n",
       "\n",
       "    .dataframe tbody tr th {\n",
       "        vertical-align: top;\n",
       "    }\n",
       "\n",
       "    .dataframe thead th {\n",
       "        text-align: right;\n",
       "    }\n",
       "</style>\n",
       "<table border=\"1\" class=\"dataframe\">\n",
       "  <thead>\n",
       "    <tr style=\"text-align: right;\">\n",
       "      <th></th>\n",
       "      <th>attributes</th>\n",
       "      <th>min</th>\n",
       "      <th>max</th>\n",
       "      <th>range</th>\n",
       "      <th>mean</th>\n",
       "      <th>median</th>\n",
       "      <th>std</th>\n",
       "      <th>skew</th>\n",
       "      <th>kurtosis</th>\n",
       "    </tr>\n",
       "  </thead>\n",
       "  <tbody>\n",
       "    <tr>\n",
       "      <th>0</th>\n",
       "      <td>cd_cliente</td>\n",
       "      <td>1.0</td>\n",
       "      <td>123883.0</td>\n",
       "      <td>123882.0</td>\n",
       "      <td>10208.952648</td>\n",
       "      <td>7145.0</td>\n",
       "      <td>10070.963664</td>\n",
       "      <td>1.928621</td>\n",
       "      <td>5.480386</td>\n",
       "    </tr>\n",
       "    <tr>\n",
       "      <th>1</th>\n",
       "      <td>qtd_diarias</td>\n",
       "      <td>1.0</td>\n",
       "      <td>26.0</td>\n",
       "      <td>25.0</td>\n",
       "      <td>2.466368</td>\n",
       "      <td>2.0</td>\n",
       "      <td>1.892708</td>\n",
       "      <td>2.051775</td>\n",
       "      <td>6.166324</td>\n",
       "    </tr>\n",
       "    <tr>\n",
       "      <th>2</th>\n",
       "      <td>qtd_hora_extra</td>\n",
       "      <td>0.0</td>\n",
       "      <td>6.0</td>\n",
       "      <td>6.0</td>\n",
       "      <td>0.110892</td>\n",
       "      <td>0.0</td>\n",
       "      <td>0.350490</td>\n",
       "      <td>3.468025</td>\n",
       "      <td>13.977098</td>\n",
       "    </tr>\n",
       "    <tr>\n",
       "      <th>3</th>\n",
       "      <td>valor_contrato</td>\n",
       "      <td>150.0</td>\n",
       "      <td>11431.0</td>\n",
       "      <td>11281.0</td>\n",
       "      <td>801.382995</td>\n",
       "      <td>542.0</td>\n",
       "      <td>690.596437</td>\n",
       "      <td>2.411665</td>\n",
       "      <td>9.124002</td>\n",
       "    </tr>\n",
       "  </tbody>\n",
       "</table>\n",
       "</div>"
      ],
      "text/plain": [
       "       attributes    min       max     range          mean  median           std      skew   kurtosis\n",
       "0      cd_cliente    1.0  123883.0  123882.0  10208.952648  7145.0  10070.963664  1.928621   5.480386\n",
       "1     qtd_diarias    1.0      26.0      25.0      2.466368     2.0      1.892708  2.051775   6.166324\n",
       "2  qtd_hora_extra    0.0       6.0       6.0      0.110892     0.0      0.350490  3.468025  13.977098\n",
       "3  valor_contrato  150.0   11431.0   11281.0    801.382995   542.0    690.596437  2.411665   9.124002"
      ]
     },
     "execution_count": 231,
     "metadata": {},
     "output_type": "execute_result"
    }
   ],
   "source": [
    "m"
   ]
  },
  {
   "cell_type": "code",
   "execution_count": 232,
   "id": "0338e12c",
   "metadata": {
    "ExecuteTime": {
     "end_time": "2022-09-11T17:09:32.270884Z",
     "start_time": "2022-09-11T17:09:23.832766Z"
    }
   },
   "outputs": [
    {
     "data": {
      "image/png": "[encoded data removed]",
      "text/plain": [
       "<Figure size 1800x864 with 1 Axes>"
      ]
     },
     "metadata": {},
     "output_type": "display_data"
    }
   ],
   "source": [
    "sns.histplot(data=df1, x='valor_contrato', kde=True);"
   ]
  },
  {
   "cell_type": "markdown",
   "id": "508dec12",
   "metadata": {},
   "source": [
    "Gráfico feito para ter uma ideia dos valores dos contratos."
   ]
  },
  {
   "cell_type": "markdown",
   "id": "9ee857ff",
   "metadata": {},
   "source": [
    "### 1.4.2 Categorical Attributes"
   ]
  },
  {
   "cell_type": "code",
   "execution_count": 233,
   "id": "4889779b",
   "metadata": {
    "ExecuteTime": {
     "end_time": "2022-09-11T17:09:32.585796Z",
     "start_time": "2022-09-11T17:09:32.275885Z"
    }
   },
   "outputs": [
    {
     "name": "stdout",
     "output_type": "stream",
     "text": [
      "nome_cliente             50\n",
      "aquisição_cliente        10\n",
      "cidade_retirada           9\n",
      "cidade_devolucao          9\n",
      "cd_contrato          480863\n",
      "transporte_locado        43\n",
      "dtype: int64\n"
     ]
    }
   ],
   "source": [
    "print(cat_attributes.apply( lambda x: x.unique().shape[0] ))"
   ]
  },
  {
   "cell_type": "markdown",
   "id": "74ada4e5",
   "metadata": {},
   "source": [
    "# 2.0 FEATURE ENGINEERING"
   ]
  },
  {
   "cell_type": "markdown",
   "id": "5f221832",
   "metadata": {},
   "source": [
    "## 2.0.1 PREMISSAS:\n",
    "* Para validação da hipótese, adotarei como premissa que os novos clientes são aqueles que iniciaram o seu primeiro a partir de 2019.\n",
    "* Considerarei o churn como sendo de 2 meses, porém este código permite considerar o churn de quantos meses o usuário julgar necessário.\n",
    "* As fórmulas utilizadas para o cálculo de churn estão no item 3.0"
   ]
  },
  {
   "cell_type": "markdown",
   "id": "edf2ec91",
   "metadata": {},
   "source": [
    "## 2.1 Hipótese a ser validada:\n",
    "\n",
    "**1. O churn de novos clientes é maior do que o churn de clientes ativos**"
   ]
  },
  {
   "cell_type": "markdown",
   "id": "778a7917",
   "metadata": {},
   "source": [
    "## 2.2 Feature Engineering"
   ]
  },
  {
   "cell_type": "markdown",
   "id": "e9549eb7",
   "metadata": {
    "ExecuteTime": {
     "end_time": "2022-09-09T18:35:21.483110Z",
     "start_time": "2022-09-09T18:35:21.468026Z"
    }
   },
   "source": [
    "Criarei um novo dataframe contendo somente as colunas que interessam para validar a hipótese. Usarei somente a coluna de data de abertura, pois ela será necessária para identificar a data em que os usuários abriram contrato pela primeira vez, com isso poderei classificar os clientes como novos ou ativos."
   ]
  },
  {
   "cell_type": "code",
   "execution_count": 250,
   "id": "d065d409",
   "metadata": {
    "ExecuteTime": {
     "end_time": "2022-09-11T17:11:42.629690Z",
     "start_time": "2022-09-11T17:11:42.483749Z"
    }
   },
   "outputs": [
    {
     "data": {
      "text/html": [
       "<div>\n",
       "<style scoped>\n",
       "    .dataframe tbody tr th:only-of-type {\n",
       "        vertical-align: middle;\n",
       "    }\n",
       "\n",
       "    .dataframe tbody tr th {\n",
       "        vertical-align: top;\n",
       "    }\n",
       "\n",
       "    .dataframe thead th {\n",
       "        text-align: right;\n",
       "    }\n",
       "</style>\n",
       "<table border=\"1\" class=\"dataframe\">\n",
       "  <thead>\n",
       "    <tr style=\"text-align: right;\">\n",
       "      <th></th>\n",
       "      <th>cd_cliente</th>\n",
       "      <th>nome_cliente</th>\n",
       "      <th>aquisição_cliente</th>\n",
       "      <th>transporte_locado</th>\n",
       "      <th>valor_contrato</th>\n",
       "      <th>data_abertura_contrato</th>\n",
       "      <th>month</th>\n",
       "    </tr>\n",
       "  </thead>\n",
       "  <tbody>\n",
       "    <tr>\n",
       "      <th>0</th>\n",
       "      <td>1</td>\n",
       "      <td>Rosa</td>\n",
       "      <td>Organic</td>\n",
       "      <td>Portal</td>\n",
       "      <td>229</td>\n",
       "      <td>2015-01-26 05:58:00</td>\n",
       "      <td>2015-01-01</td>\n",
       "    </tr>\n",
       "    <tr>\n",
       "      <th>1</th>\n",
       "      <td>1</td>\n",
       "      <td>Rosa</td>\n",
       "      <td>Organic</td>\n",
       "      <td>Ônibus Escolar</td>\n",
       "      <td>198</td>\n",
       "      <td>2015-02-05 15:10:00</td>\n",
       "      <td>2015-02-01</td>\n",
       "    </tr>\n",
       "    <tr>\n",
       "      <th>2</th>\n",
       "      <td>1</td>\n",
       "      <td>Rosa</td>\n",
       "      <td>Organic</td>\n",
       "      <td>Barco</td>\n",
       "      <td>436</td>\n",
       "      <td>2015-05-04 20:49:00</td>\n",
       "      <td>2015-05-01</td>\n",
       "    </tr>\n",
       "    <tr>\n",
       "      <th>3</th>\n",
       "      <td>1</td>\n",
       "      <td>Rosa</td>\n",
       "      <td>Organic</td>\n",
       "      <td>1960 Corvette</td>\n",
       "      <td>423</td>\n",
       "      <td>2015-05-07 07:34:00</td>\n",
       "      <td>2015-05-01</td>\n",
       "    </tr>\n",
       "    <tr>\n",
       "      <th>4</th>\n",
       "      <td>1</td>\n",
       "      <td>Rosa</td>\n",
       "      <td>Organic</td>\n",
       "      <td>Testralio</td>\n",
       "      <td>676</td>\n",
       "      <td>2015-08-01 11:14:00</td>\n",
       "      <td>2015-08-01</td>\n",
       "    </tr>\n",
       "  </tbody>\n",
       "</table>\n",
       "</div>"
      ],
      "text/plain": [
       "   cd_cliente nome_cliente aquisição_cliente transporte_locado  valor_contrato data_abertura_contrato      month\n",
       "0           1         Rosa           Organic            Portal             229    2015-01-26 05:58:00 2015-01-01\n",
       "1           1         Rosa           Organic    Ônibus Escolar             198    2015-02-05 15:10:00 2015-02-01\n",
       "2           1         Rosa           Organic             Barco             436    2015-05-04 20:49:00 2015-05-01\n",
       "3           1         Rosa           Organic     1960 Corvette             423    2015-05-07 07:34:00 2015-05-01\n",
       "4           1         Rosa           Organic         Testralio             676    2015-08-01 11:14:00 2015-08-01"
      ]
     },
     "execution_count": 250,
     "metadata": {},
     "output_type": "execute_result"
    }
   ],
   "source": [
    "df2 = df1[['cd_cliente','nome_cliente','aquisição_cliente','transporte_locado','valor_contrato','data_abertura_contrato']].copy()\n",
    "df2['month'] = df2['data_abertura_contrato'].values.astype('datetime64[M]')\n",
    "df2.head()"
   ]
  },
  {
   "cell_type": "markdown",
   "id": "eea18bd4",
   "metadata": {},
   "source": [
    "* Para descobrir o ano em que cada usuário iniciou o seu primneiro contrato com a empresa, criarei uma variável chamada users, essa variável agrupará o código de cada cliente pelo seu ano mínimo.\n",
    "\n",
    "* Depois classificarei os clientes pelo ano do primeiro contrato,\n",
    "\n",
    "* Depois usarei a função merge para adicionar esta informação no dataset.\n",
    "\n",
    "* Por último, criarei um novo dataframe contendo somente as colunas que me interessam para fazer o estudo do churn."
   ]
  },
  {
   "cell_type": "code",
   "execution_count": 251,
   "id": "0af89414",
   "metadata": {
    "ExecuteTime": {
     "end_time": "2022-09-11T17:11:43.424271Z",
     "start_time": "2022-09-11T17:11:43.368301Z"
    }
   },
   "outputs": [
    {
     "data": {
      "text/html": [
       "<div>\n",
       "<style scoped>\n",
       "    .dataframe tbody tr th:only-of-type {\n",
       "        vertical-align: middle;\n",
       "    }\n",
       "\n",
       "    .dataframe tbody tr th {\n",
       "        vertical-align: top;\n",
       "    }\n",
       "\n",
       "    .dataframe thead th {\n",
       "        text-align: right;\n",
       "    }\n",
       "</style>\n",
       "<table border=\"1\" class=\"dataframe\">\n",
       "  <thead>\n",
       "    <tr style=\"text-align: right;\">\n",
       "      <th></th>\n",
       "      <th>cd_cliente</th>\n",
       "      <th>data_abertura_contrato</th>\n",
       "    </tr>\n",
       "  </thead>\n",
       "  <tbody>\n",
       "    <tr>\n",
       "      <th>0</th>\n",
       "      <td>1</td>\n",
       "      <td>2015-01-26 05:58:00</td>\n",
       "    </tr>\n",
       "    <tr>\n",
       "      <th>1</th>\n",
       "      <td>2</td>\n",
       "      <td>2015-01-31 02:29:00</td>\n",
       "    </tr>\n",
       "    <tr>\n",
       "      <th>2</th>\n",
       "      <td>3</td>\n",
       "      <td>2015-02-12 09:27:00</td>\n",
       "    </tr>\n",
       "    <tr>\n",
       "      <th>3</th>\n",
       "      <td>4</td>\n",
       "      <td>2015-03-06 15:37:00</td>\n",
       "    </tr>\n",
       "    <tr>\n",
       "      <th>4</th>\n",
       "      <td>5</td>\n",
       "      <td>2015-02-24 09:00:00</td>\n",
       "    </tr>\n",
       "  </tbody>\n",
       "</table>\n",
       "</div>"
      ],
      "text/plain": [
       "   cd_cliente data_abertura_contrato\n",
       "0           1    2015-01-26 05:58:00\n",
       "1           2    2015-01-31 02:29:00\n",
       "2           3    2015-02-12 09:27:00\n",
       "3           4    2015-03-06 15:37:00\n",
       "4           5    2015-02-24 09:00:00"
      ]
     },
     "execution_count": 251,
     "metadata": {},
     "output_type": "execute_result"
    }
   ],
   "source": [
    "user = df2.groupby(['cd_cliente'])['data_abertura_contrato'].min().reset_index()\n",
    "user.head()"
   ]
  },
  {
   "cell_type": "code",
   "execution_count": 252,
   "id": "38246777",
   "metadata": {
    "ExecuteTime": {
     "end_time": "2022-09-11T17:11:43.703620Z",
     "start_time": "2022-09-11T17:11:43.696624Z"
    }
   },
   "outputs": [],
   "source": [
    "user.columns=['cd_cliente','data_primeiro_contrato']"
   ]
  },
  {
   "cell_type": "code",
   "execution_count": 253,
   "id": "6e66ae1b",
   "metadata": {
    "ExecuteTime": {
     "end_time": "2022-09-11T17:11:44.063259Z",
     "start_time": "2022-09-11T17:11:44.034257Z"
    }
   },
   "outputs": [
    {
     "data": {
      "text/html": [
       "<div>\n",
       "<style scoped>\n",
       "    .dataframe tbody tr th:only-of-type {\n",
       "        vertical-align: middle;\n",
       "    }\n",
       "\n",
       "    .dataframe tbody tr th {\n",
       "        vertical-align: top;\n",
       "    }\n",
       "\n",
       "    .dataframe thead th {\n",
       "        text-align: right;\n",
       "    }\n",
       "</style>\n",
       "<table border=\"1\" class=\"dataframe\">\n",
       "  <thead>\n",
       "    <tr style=\"text-align: right;\">\n",
       "      <th></th>\n",
       "      <th>cd_cliente</th>\n",
       "      <th>data_primeiro_contrato</th>\n",
       "      <th>mes_primeiro_contrato</th>\n",
       "    </tr>\n",
       "  </thead>\n",
       "  <tbody>\n",
       "    <tr>\n",
       "      <th>0</th>\n",
       "      <td>1</td>\n",
       "      <td>2015-01-26 05:58:00</td>\n",
       "      <td>2015-01-01</td>\n",
       "    </tr>\n",
       "    <tr>\n",
       "      <th>1</th>\n",
       "      <td>2</td>\n",
       "      <td>2015-01-31 02:29:00</td>\n",
       "      <td>2015-01-01</td>\n",
       "    </tr>\n",
       "  </tbody>\n",
       "</table>\n",
       "</div>"
      ],
      "text/plain": [
       "   cd_cliente data_primeiro_contrato mes_primeiro_contrato\n",
       "0           1    2015-01-26 05:58:00            2015-01-01\n",
       "1           2    2015-01-31 02:29:00            2015-01-01"
      ]
     },
     "execution_count": 253,
     "metadata": {},
     "output_type": "execute_result"
    }
   ],
   "source": [
    "# Derivar o mês da coluna de primeiro contrato\n",
    "user['mes_primeiro_contrato'] = user['data_primeiro_contrato'].values.astype('datetime64[M]')\n",
    "user.head(2)"
   ]
  },
  {
   "cell_type": "code",
   "execution_count": 254,
   "id": "9c5874c5",
   "metadata": {
    "ExecuteTime": {
     "end_time": "2022-09-11T17:11:44.404608Z",
     "start_time": "2022-09-11T17:11:44.393614Z"
    }
   },
   "outputs": [
    {
     "name": "stdout",
     "output_type": "stream",
     "text": [
      "A quantidade de linhas deste novo dataframe é: 44842\n"
     ]
    }
   ],
   "source": [
    "print(f'A quantidade de linhas deste novo dataframe é: {user.shape[0]}')"
   ]
  },
  {
   "cell_type": "markdown",
   "id": "95db54f7",
   "metadata": {
    "ExecuteTime": {
     "end_time": "2022-09-09T18:36:35.427660Z",
     "start_time": "2022-09-09T18:36:35.404785Z"
    }
   },
   "source": [
    "Veja que essa é a mesma quantidade de usuários diferentes que possui o dataframe original, significa que o código retornou cada id de cliente com sua primeira data de contrato, é isso que precisamos para poder classificar os clientes!!!"
   ]
  },
  {
   "cell_type": "markdown",
   "id": "0fb19307",
   "metadata": {},
   "source": [
    "A seguir, classificarei os clientes com base na data do primeiro contrato"
   ]
  },
  {
   "cell_type": "code",
   "execution_count": 255,
   "id": "22618fa6",
   "metadata": {
    "ExecuteTime": {
     "end_time": "2022-09-11T17:11:45.647898Z",
     "start_time": "2022-09-11T17:11:45.600905Z"
    }
   },
   "outputs": [
    {
     "data": {
      "text/html": [
       "<div>\n",
       "<style scoped>\n",
       "    .dataframe tbody tr th:only-of-type {\n",
       "        vertical-align: middle;\n",
       "    }\n",
       "\n",
       "    .dataframe tbody tr th {\n",
       "        vertical-align: top;\n",
       "    }\n",
       "\n",
       "    .dataframe thead th {\n",
       "        text-align: right;\n",
       "    }\n",
       "</style>\n",
       "<table border=\"1\" class=\"dataframe\">\n",
       "  <thead>\n",
       "    <tr style=\"text-align: right;\">\n",
       "      <th></th>\n",
       "      <th>cd_cliente</th>\n",
       "      <th>data_primeiro_contrato</th>\n",
       "      <th>mes_primeiro_contrato</th>\n",
       "      <th>ano_primeiro_contrato</th>\n",
       "      <th>tipo_cliente</th>\n",
       "    </tr>\n",
       "  </thead>\n",
       "  <tbody>\n",
       "    <tr>\n",
       "      <th>0</th>\n",
       "      <td>1</td>\n",
       "      <td>2015-01-26 05:58:00</td>\n",
       "      <td>2015-01-01</td>\n",
       "      <td>2015</td>\n",
       "      <td>cliente_ativo</td>\n",
       "    </tr>\n",
       "    <tr>\n",
       "      <th>1</th>\n",
       "      <td>2</td>\n",
       "      <td>2015-01-31 02:29:00</td>\n",
       "      <td>2015-01-01</td>\n",
       "      <td>2015</td>\n",
       "      <td>cliente_ativo</td>\n",
       "    </tr>\n",
       "    <tr>\n",
       "      <th>2</th>\n",
       "      <td>3</td>\n",
       "      <td>2015-02-12 09:27:00</td>\n",
       "      <td>2015-02-01</td>\n",
       "      <td>2015</td>\n",
       "      <td>cliente_ativo</td>\n",
       "    </tr>\n",
       "    <tr>\n",
       "      <th>3</th>\n",
       "      <td>4</td>\n",
       "      <td>2015-03-06 15:37:00</td>\n",
       "      <td>2015-03-01</td>\n",
       "      <td>2015</td>\n",
       "      <td>cliente_ativo</td>\n",
       "    </tr>\n",
       "    <tr>\n",
       "      <th>4</th>\n",
       "      <td>5</td>\n",
       "      <td>2015-02-24 09:00:00</td>\n",
       "      <td>2015-02-01</td>\n",
       "      <td>2015</td>\n",
       "      <td>cliente_ativo</td>\n",
       "    </tr>\n",
       "  </tbody>\n",
       "</table>\n",
       "</div>"
      ],
      "text/plain": [
       "   cd_cliente data_primeiro_contrato mes_primeiro_contrato  ano_primeiro_contrato   tipo_cliente\n",
       "0           1    2015-01-26 05:58:00            2015-01-01                   2015  cliente_ativo\n",
       "1           2    2015-01-31 02:29:00            2015-01-01                   2015  cliente_ativo\n",
       "2           3    2015-02-12 09:27:00            2015-02-01                   2015  cliente_ativo\n",
       "3           4    2015-03-06 15:37:00            2015-03-01                   2015  cliente_ativo\n",
       "4           5    2015-02-24 09:00:00            2015-02-01                   2015  cliente_ativo"
      ]
     },
     "execution_count": 255,
     "metadata": {},
     "output_type": "execute_result"
    }
   ],
   "source": [
    "#user['data_primeiro_contrato'] = user['data_abertura_contrato'].values.astype('datetime64[M]')\n",
    "user['ano_primeiro_contrato'] = user['data_primeiro_contrato'].dt.year\n",
    "user['tipo_cliente'] = user['ano_primeiro_contrato'].apply(lambda x: 'cliente_ativo' if x <= 2018 else 'cliente_novo')\n",
    "user.head()"
   ]
  },
  {
   "cell_type": "code",
   "execution_count": 256,
   "id": "5e493381",
   "metadata": {
    "ExecuteTime": {
     "end_time": "2022-09-11T17:11:47.919606Z",
     "start_time": "2022-09-11T17:11:47.880645Z"
    }
   },
   "outputs": [
    {
     "name": "stdout",
     "output_type": "stream",
     "text": [
      "A quantidade de clientes ativos é: 40771 clientes.\n",
      "A quantidade de novos clientes é: 4071 clientes.\n"
     ]
    }
   ],
   "source": [
    "# Checando se a classificação funcionou\n",
    "print('A quantidade de clientes ativos é: {} clientes.'. format(user[user['tipo_cliente'] == 'cliente_ativo'].shape[0]))\n",
    "print('A quantidade de novos clientes é: {} clientes.'. format(user[user['tipo_cliente'] == 'cliente_novo'].shape[0]))"
   ]
  },
  {
   "cell_type": "markdown",
   "id": "a529a8ed",
   "metadata": {},
   "source": [
    "O código abaixo me trará todos as combinações de meses possíveis do meu dataset, isso será importante para validar se o cliente fez o churn"
   ]
  },
  {
   "cell_type": "code",
   "execution_count": 257,
   "id": "ea38a715",
   "metadata": {
    "ExecuteTime": {
     "end_time": "2022-09-11T17:11:49.308150Z",
     "start_time": "2022-09-11T17:11:49.144624Z"
    }
   },
   "outputs": [],
   "source": [
    "min_month = df2['data_abertura_contrato'].values.astype('datetime64[M]').min()\n",
    "max_month = df2['data_abertura_contrato'].values.astype('datetime64[M]').max()\n",
    "dr = pd.DataFrame(pd.date_range(min_month, max_month, freq='MS'))\n",
    "dr.columns = ['month']"
   ]
  },
  {
   "cell_type": "code",
   "execution_count": 260,
   "id": "5e219764",
   "metadata": {
    "ExecuteTime": {
     "end_time": "2022-09-11T17:11:51.367648Z",
     "start_time": "2022-09-11T17:11:50.929899Z"
    }
   },
   "outputs": [
    {
     "data": {
      "text/html": [
       "<div>\n",
       "<style scoped>\n",
       "    .dataframe tbody tr th:only-of-type {\n",
       "        vertical-align: middle;\n",
       "    }\n",
       "\n",
       "    .dataframe tbody tr th {\n",
       "        vertical-align: top;\n",
       "    }\n",
       "\n",
       "    .dataframe thead th {\n",
       "        text-align: right;\n",
       "    }\n",
       "</style>\n",
       "<table border=\"1\" class=\"dataframe\">\n",
       "  <thead>\n",
       "    <tr style=\"text-align: right;\">\n",
       "      <th></th>\n",
       "      <th>month</th>\n",
       "      <th>key</th>\n",
       "      <th>cd_cliente</th>\n",
       "      <th>data_primeiro_contrato</th>\n",
       "      <th>mes_primeiro_contrato</th>\n",
       "      <th>ano_primeiro_contrato</th>\n",
       "      <th>tipo_cliente</th>\n",
       "    </tr>\n",
       "  </thead>\n",
       "  <tbody>\n",
       "    <tr>\n",
       "      <th>0</th>\n",
       "      <td>2015-01-01</td>\n",
       "      <td>1</td>\n",
       "      <td>1</td>\n",
       "      <td>2015-01-26 05:58:00</td>\n",
       "      <td>2015-01-01</td>\n",
       "      <td>2015</td>\n",
       "      <td>cliente_ativo</td>\n",
       "    </tr>\n",
       "    <tr>\n",
       "      <th>1</th>\n",
       "      <td>2015-01-01</td>\n",
       "      <td>1</td>\n",
       "      <td>2</td>\n",
       "      <td>2015-01-31 02:29:00</td>\n",
       "      <td>2015-01-01</td>\n",
       "      <td>2015</td>\n",
       "      <td>cliente_ativo</td>\n",
       "    </tr>\n",
       "    <tr>\n",
       "      <th>2</th>\n",
       "      <td>2015-01-01</td>\n",
       "      <td>1</td>\n",
       "      <td>3</td>\n",
       "      <td>2015-02-12 09:27:00</td>\n",
       "      <td>2015-02-01</td>\n",
       "      <td>2015</td>\n",
       "      <td>cliente_ativo</td>\n",
       "    </tr>\n",
       "    <tr>\n",
       "      <th>3</th>\n",
       "      <td>2015-01-01</td>\n",
       "      <td>1</td>\n",
       "      <td>4</td>\n",
       "      <td>2015-03-06 15:37:00</td>\n",
       "      <td>2015-03-01</td>\n",
       "      <td>2015</td>\n",
       "      <td>cliente_ativo</td>\n",
       "    </tr>\n",
       "    <tr>\n",
       "      <th>4</th>\n",
       "      <td>2015-01-01</td>\n",
       "      <td>1</td>\n",
       "      <td>5</td>\n",
       "      <td>2015-02-24 09:00:00</td>\n",
       "      <td>2015-02-01</td>\n",
       "      <td>2015</td>\n",
       "      <td>cliente_ativo</td>\n",
       "    </tr>\n",
       "  </tbody>\n",
       "</table>\n",
       "</div>"
      ],
      "text/plain": [
       "       month  key  cd_cliente data_primeiro_contrato mes_primeiro_contrato  ano_primeiro_contrato   tipo_cliente\n",
       "0 2015-01-01    1           1    2015-01-26 05:58:00            2015-01-01                   2015  cliente_ativo\n",
       "1 2015-01-01    1           2    2015-01-31 02:29:00            2015-01-01                   2015  cliente_ativo\n",
       "2 2015-01-01    1           3    2015-02-12 09:27:00            2015-02-01                   2015  cliente_ativo\n",
       "3 2015-01-01    1           4    2015-03-06 15:37:00            2015-03-01                   2015  cliente_ativo\n",
       "4 2015-01-01    1           5    2015-02-24 09:00:00            2015-02-01                   2015  cliente_ativo"
      ]
     },
     "execution_count": 260,
     "metadata": {},
     "output_type": "execute_result"
    }
   ],
   "source": [
    "dr['key'] = 1\n",
    "user['key'] = 1\n",
    "report = dr.merge(user, on='key')\n",
    "report.head()"
   ]
  },
  {
   "cell_type": "code",
   "execution_count": 264,
   "id": "4247ceaa",
   "metadata": {
    "ExecuteTime": {
     "end_time": "2022-09-11T17:11:54.539164Z",
     "start_time": "2022-09-11T17:11:54.300185Z"
    }
   },
   "outputs": [],
   "source": [
    "# Vou exclur as linhas dos clientes que não começaram o contrato na data mínima, o usuário 105968, por exemplo, teve seu primeiro contrato aberto em 2018-07-28, mas ele também estava aparecendo em 2015, pois o dataframe estava combinando este valor com todos os meses possíveis.\n",
    "report = report[report['month'] >= report['mes_primeiro_contrato']]"
   ]
  },
  {
   "cell_type": "code",
   "execution_count": 265,
   "id": "3b00cc7e",
   "metadata": {
    "ExecuteTime": {
     "end_time": "2022-09-11T17:11:55.857144Z",
     "start_time": "2022-09-11T17:11:55.824629Z"
    }
   },
   "outputs": [
    {
     "data": {
      "text/html": [
       "<div>\n",
       "<style scoped>\n",
       "    .dataframe tbody tr th:only-of-type {\n",
       "        vertical-align: middle;\n",
       "    }\n",
       "\n",
       "    .dataframe tbody tr th {\n",
       "        vertical-align: top;\n",
       "    }\n",
       "\n",
       "    .dataframe thead th {\n",
       "        text-align: right;\n",
       "    }\n",
       "</style>\n",
       "<table border=\"1\" class=\"dataframe\">\n",
       "  <thead>\n",
       "    <tr style=\"text-align: right;\">\n",
       "      <th></th>\n",
       "      <th>month</th>\n",
       "      <th>key</th>\n",
       "      <th>cd_cliente</th>\n",
       "      <th>data_primeiro_contrato</th>\n",
       "      <th>mes_primeiro_contrato</th>\n",
       "      <th>ano_primeiro_contrato</th>\n",
       "      <th>tipo_cliente</th>\n",
       "    </tr>\n",
       "  </thead>\n",
       "  <tbody>\n",
       "    <tr>\n",
       "      <th>0</th>\n",
       "      <td>2015-01-01</td>\n",
       "      <td>1</td>\n",
       "      <td>1</td>\n",
       "      <td>2015-01-26 05:58:00</td>\n",
       "      <td>2015-01-01</td>\n",
       "      <td>2015</td>\n",
       "      <td>cliente_ativo</td>\n",
       "    </tr>\n",
       "    <tr>\n",
       "      <th>1</th>\n",
       "      <td>2015-01-01</td>\n",
       "      <td>1</td>\n",
       "      <td>2</td>\n",
       "      <td>2015-01-31 02:29:00</td>\n",
       "      <td>2015-01-01</td>\n",
       "      <td>2015</td>\n",
       "      <td>cliente_ativo</td>\n",
       "    </tr>\n",
       "    <tr>\n",
       "      <th>7</th>\n",
       "      <td>2015-01-01</td>\n",
       "      <td>1</td>\n",
       "      <td>8</td>\n",
       "      <td>2015-01-03 18:56:00</td>\n",
       "      <td>2015-01-01</td>\n",
       "      <td>2015</td>\n",
       "      <td>cliente_ativo</td>\n",
       "    </tr>\n",
       "    <tr>\n",
       "      <th>10</th>\n",
       "      <td>2015-01-01</td>\n",
       "      <td>1</td>\n",
       "      <td>11</td>\n",
       "      <td>2015-01-07 15:23:00</td>\n",
       "      <td>2015-01-01</td>\n",
       "      <td>2015</td>\n",
       "      <td>cliente_ativo</td>\n",
       "    </tr>\n",
       "    <tr>\n",
       "      <th>11</th>\n",
       "      <td>2015-01-01</td>\n",
       "      <td>1</td>\n",
       "      <td>12</td>\n",
       "      <td>2015-01-04 22:00:00</td>\n",
       "      <td>2015-01-01</td>\n",
       "      <td>2015</td>\n",
       "      <td>cliente_ativo</td>\n",
       "    </tr>\n",
       "  </tbody>\n",
       "</table>\n",
       "</div>"
      ],
      "text/plain": [
       "        month  key  cd_cliente data_primeiro_contrato mes_primeiro_contrato  ano_primeiro_contrato   tipo_cliente\n",
       "0  2015-01-01    1           1    2015-01-26 05:58:00            2015-01-01                   2015  cliente_ativo\n",
       "1  2015-01-01    1           2    2015-01-31 02:29:00            2015-01-01                   2015  cliente_ativo\n",
       "7  2015-01-01    1           8    2015-01-03 18:56:00            2015-01-01                   2015  cliente_ativo\n",
       "10 2015-01-01    1          11    2015-01-07 15:23:00            2015-01-01                   2015  cliente_ativo\n",
       "11 2015-01-01    1          12    2015-01-04 22:00:00            2015-01-01                   2015  cliente_ativo"
      ]
     },
     "execution_count": 265,
     "metadata": {},
     "output_type": "execute_result"
    }
   ],
   "source": [
    "report.head()"
   ]
  },
  {
   "cell_type": "markdown",
   "id": "c8a5bc72",
   "metadata": {
    "ExecuteTime": {
     "end_time": "2022-09-11T19:50:46.450833Z",
     "start_time": "2022-09-11T19:50:46.441840Z"
    }
   },
   "source": [
    "Agrupando os contratos por mês de cada cliente:"
   ]
  },
  {
   "cell_type": "code",
   "execution_count": 432,
   "id": "d102ed1c",
   "metadata": {
    "ExecuteTime": {
     "end_time": "2022-09-11T19:50:51.379316Z",
     "start_time": "2022-09-11T19:50:51.117467Z"
    }
   },
   "outputs": [
    {
     "data": {
      "text/html": [
       "<div>\n",
       "<style scoped>\n",
       "    .dataframe tbody tr th:only-of-type {\n",
       "        vertical-align: middle;\n",
       "    }\n",
       "\n",
       "    .dataframe tbody tr th {\n",
       "        vertical-align: top;\n",
       "    }\n",
       "\n",
       "    .dataframe thead th {\n",
       "        text-align: right;\n",
       "    }\n",
       "</style>\n",
       "<table border=\"1\" class=\"dataframe\">\n",
       "  <thead>\n",
       "    <tr style=\"text-align: right;\">\n",
       "      <th></th>\n",
       "      <th>cd_cliente</th>\n",
       "      <th>month</th>\n",
       "      <th>valor_contrato</th>\n",
       "    </tr>\n",
       "  </thead>\n",
       "  <tbody>\n",
       "    <tr>\n",
       "      <th>0</th>\n",
       "      <td>1</td>\n",
       "      <td>2015-01-01</td>\n",
       "      <td>229</td>\n",
       "    </tr>\n",
       "    <tr>\n",
       "      <th>1</th>\n",
       "      <td>1</td>\n",
       "      <td>2015-02-01</td>\n",
       "      <td>198</td>\n",
       "    </tr>\n",
       "    <tr>\n",
       "      <th>2</th>\n",
       "      <td>1</td>\n",
       "      <td>2015-05-01</td>\n",
       "      <td>859</td>\n",
       "    </tr>\n",
       "    <tr>\n",
       "      <th>3</th>\n",
       "      <td>1</td>\n",
       "      <td>2015-08-01</td>\n",
       "      <td>676</td>\n",
       "    </tr>\n",
       "    <tr>\n",
       "      <th>4</th>\n",
       "      <td>1</td>\n",
       "      <td>2015-09-01</td>\n",
       "      <td>1140</td>\n",
       "    </tr>\n",
       "  </tbody>\n",
       "</table>\n",
       "</div>"
      ],
      "text/plain": [
       "   cd_cliente      month  valor_contrato\n",
       "0           1 2015-01-01             229\n",
       "1           1 2015-02-01             198\n",
       "2           1 2015-05-01             859\n",
       "3           1 2015-08-01             676\n",
       "4           1 2015-09-01            1140"
      ]
     },
     "execution_count": 432,
     "metadata": {},
     "output_type": "execute_result"
    }
   ],
   "source": [
    "sales_month = df2.groupby(['cd_cliente','month'])[['valor_contrato']].agg('sum').reset_index()\n",
    "sales_month.head()"
   ]
  },
  {
   "cell_type": "code",
   "execution_count": 270,
   "id": "d5a22658",
   "metadata": {
    "ExecuteTime": {
     "end_time": "2022-09-11T17:16:16.597725Z",
     "start_time": "2022-09-11T17:16:15.304050Z"
    }
   },
   "outputs": [],
   "source": [
    "report = report.merge(sales_month, how='left', on=['cd_cliente','month'])"
   ]
  },
  {
   "cell_type": "code",
   "execution_count": 433,
   "id": "58d086ac",
   "metadata": {
    "ExecuteTime": {
     "end_time": "2022-09-11T19:51:09.769459Z",
     "start_time": "2022-09-11T19:51:09.733480Z"
    }
   },
   "outputs": [
    {
     "data": {
      "text/html": [
       "<div>\n",
       "<style scoped>\n",
       "    .dataframe tbody tr th:only-of-type {\n",
       "        vertical-align: middle;\n",
       "    }\n",
       "\n",
       "    .dataframe tbody tr th {\n",
       "        vertical-align: top;\n",
       "    }\n",
       "\n",
       "    .dataframe thead th {\n",
       "        text-align: right;\n",
       "    }\n",
       "</style>\n",
       "<table border=\"1\" class=\"dataframe\">\n",
       "  <thead>\n",
       "    <tr style=\"text-align: right;\">\n",
       "      <th></th>\n",
       "      <th>month</th>\n",
       "      <th>key</th>\n",
       "      <th>cd_cliente</th>\n",
       "      <th>data_primeiro_contrato</th>\n",
       "      <th>mes_primeiro_contrato</th>\n",
       "      <th>ano_primeiro_contrato</th>\n",
       "      <th>tipo_cliente</th>\n",
       "      <th>valor_contrato</th>\n",
       "      <th>user</th>\n",
       "      <th>new</th>\n",
       "      <th>active</th>\n",
       "      <th>ativo_mes_anterior</th>\n",
       "      <th>mudou_status</th>\n",
       "      <th>session_id</th>\n",
       "      <th>inativo</th>\n",
       "      <th>meses_inativo</th>\n",
       "      <th>churn_2m</th>\n",
       "    </tr>\n",
       "  </thead>\n",
       "  <tbody>\n",
       "    <tr>\n",
       "      <th>0</th>\n",
       "      <td>2015-01-01</td>\n",
       "      <td>1</td>\n",
       "      <td>1</td>\n",
       "      <td>2015-01-26 05:58:00</td>\n",
       "      <td>2015-01-01</td>\n",
       "      <td>2015</td>\n",
       "      <td>cliente_ativo</td>\n",
       "      <td>229.0</td>\n",
       "      <td>1</td>\n",
       "      <td>1</td>\n",
       "      <td>1</td>\n",
       "      <td>NaN</td>\n",
       "      <td>1</td>\n",
       "      <td>1</td>\n",
       "      <td>0</td>\n",
       "      <td>0</td>\n",
       "      <td>0</td>\n",
       "    </tr>\n",
       "    <tr>\n",
       "      <th>1</th>\n",
       "      <td>2015-01-01</td>\n",
       "      <td>1</td>\n",
       "      <td>2</td>\n",
       "      <td>2015-01-31 02:29:00</td>\n",
       "      <td>2015-01-01</td>\n",
       "      <td>2015</td>\n",
       "      <td>cliente_ativo</td>\n",
       "      <td>210.0</td>\n",
       "      <td>1</td>\n",
       "      <td>1</td>\n",
       "      <td>1</td>\n",
       "      <td>NaN</td>\n",
       "      <td>1</td>\n",
       "      <td>1</td>\n",
       "      <td>0</td>\n",
       "      <td>0</td>\n",
       "      <td>0</td>\n",
       "    </tr>\n",
       "    <tr>\n",
       "      <th>2</th>\n",
       "      <td>2015-01-01</td>\n",
       "      <td>1</td>\n",
       "      <td>8</td>\n",
       "      <td>2015-01-03 18:56:00</td>\n",
       "      <td>2015-01-01</td>\n",
       "      <td>2015</td>\n",
       "      <td>cliente_ativo</td>\n",
       "      <td>550.0</td>\n",
       "      <td>1</td>\n",
       "      <td>1</td>\n",
       "      <td>1</td>\n",
       "      <td>NaN</td>\n",
       "      <td>1</td>\n",
       "      <td>1</td>\n",
       "      <td>0</td>\n",
       "      <td>0</td>\n",
       "      <td>0</td>\n",
       "    </tr>\n",
       "    <tr>\n",
       "      <th>3</th>\n",
       "      <td>2015-01-01</td>\n",
       "      <td>1</td>\n",
       "      <td>11</td>\n",
       "      <td>2015-01-07 15:23:00</td>\n",
       "      <td>2015-01-01</td>\n",
       "      <td>2015</td>\n",
       "      <td>cliente_ativo</td>\n",
       "      <td>1618.0</td>\n",
       "      <td>1</td>\n",
       "      <td>1</td>\n",
       "      <td>1</td>\n",
       "      <td>NaN</td>\n",
       "      <td>1</td>\n",
       "      <td>1</td>\n",
       "      <td>0</td>\n",
       "      <td>0</td>\n",
       "      <td>0</td>\n",
       "    </tr>\n",
       "    <tr>\n",
       "      <th>4</th>\n",
       "      <td>2015-01-01</td>\n",
       "      <td>1</td>\n",
       "      <td>12</td>\n",
       "      <td>2015-01-04 22:00:00</td>\n",
       "      <td>2015-01-01</td>\n",
       "      <td>2015</td>\n",
       "      <td>cliente_ativo</td>\n",
       "      <td>700.0</td>\n",
       "      <td>1</td>\n",
       "      <td>1</td>\n",
       "      <td>1</td>\n",
       "      <td>NaN</td>\n",
       "      <td>1</td>\n",
       "      <td>1</td>\n",
       "      <td>0</td>\n",
       "      <td>0</td>\n",
       "      <td>0</td>\n",
       "    </tr>\n",
       "  </tbody>\n",
       "</table>\n",
       "</div>"
      ],
      "text/plain": [
       "       month  key  cd_cliente data_primeiro_contrato mes_primeiro_contrato  ano_primeiro_contrato   tipo_cliente  valor_contrato  user  new  active  ativo_mes_anterior  mudou_status  session_id  inativo  meses_inativo  churn_2m\n",
       "0 2015-01-01    1           1    2015-01-26 05:58:00            2015-01-01                   2015  cliente_ativo           229.0     1    1       1                 NaN             1           1        0              0         0\n",
       "1 2015-01-01    1           2    2015-01-31 02:29:00            2015-01-01                   2015  cliente_ativo           210.0     1    1       1                 NaN             1           1        0              0         0\n",
       "2 2015-01-01    1           8    2015-01-03 18:56:00            2015-01-01                   2015  cliente_ativo           550.0     1    1       1                 NaN             1           1        0              0         0\n",
       "3 2015-01-01    1          11    2015-01-07 15:23:00            2015-01-01                   2015  cliente_ativo          1618.0     1    1       1                 NaN             1           1        0              0         0\n",
       "4 2015-01-01    1          12    2015-01-04 22:00:00            2015-01-01                   2015  cliente_ativo           700.0     1    1       1                 NaN             1           1        0              0         0"
      ]
     },
     "execution_count": 433,
     "metadata": {},
     "output_type": "execute_result"
    }
   ],
   "source": [
    "report.head(5)"
   ]
  },
  {
   "cell_type": "markdown",
   "id": "9bca3876",
   "metadata": {},
   "source": [
    "Para a análise de churn, precisarei criar ainda algumas métricas para identificar os meses em que o cliente não alugou veículo."
   ]
  },
  {
   "cell_type": "code",
   "execution_count": 272,
   "id": "10b62051",
   "metadata": {
    "ExecuteTime": {
     "end_time": "2022-09-11T17:18:25.448549Z",
     "start_time": "2022-09-11T17:18:25.385564Z"
    }
   },
   "outputs": [],
   "source": [
    "report['user'] = 1\n",
    "report['new'] = (report['mes_primeiro_contrato'] == report['month']) * 1\n",
    "report['active'] = (report['valor_contrato'] > 0) * 1"
   ]
  },
  {
   "cell_type": "code",
   "execution_count": 275,
   "id": "f22d7f51",
   "metadata": {
    "ExecuteTime": {
     "end_time": "2022-09-11T17:19:34.962049Z",
     "start_time": "2022-09-11T17:19:34.918560Z"
    }
   },
   "outputs": [
    {
     "data": {
      "text/html": [
       "<div>\n",
       "<style scoped>\n",
       "    .dataframe tbody tr th:only-of-type {\n",
       "        vertical-align: middle;\n",
       "    }\n",
       "\n",
       "    .dataframe tbody tr th {\n",
       "        vertical-align: top;\n",
       "    }\n",
       "\n",
       "    .dataframe thead th {\n",
       "        text-align: right;\n",
       "    }\n",
       "</style>\n",
       "<table border=\"1\" class=\"dataframe\">\n",
       "  <thead>\n",
       "    <tr style=\"text-align: right;\">\n",
       "      <th></th>\n",
       "      <th>month</th>\n",
       "      <th>key</th>\n",
       "      <th>cd_cliente</th>\n",
       "      <th>data_primeiro_contrato</th>\n",
       "      <th>mes_primeiro_contrato</th>\n",
       "      <th>ano_primeiro_contrato</th>\n",
       "      <th>tipo_cliente</th>\n",
       "      <th>valor_contrato</th>\n",
       "      <th>user</th>\n",
       "      <th>new</th>\n",
       "      <th>active</th>\n",
       "    </tr>\n",
       "  </thead>\n",
       "  <tbody>\n",
       "    <tr>\n",
       "      <th>5871</th>\n",
       "      <td>2015-02-01</td>\n",
       "      <td>1</td>\n",
       "      <td>3</td>\n",
       "      <td>2015-02-12 09:27:00</td>\n",
       "      <td>2015-02-01</td>\n",
       "      <td>2015</td>\n",
       "      <td>cliente_ativo</td>\n",
       "      <td>387.0</td>\n",
       "      <td>1</td>\n",
       "      <td>1</td>\n",
       "      <td>1</td>\n",
       "    </tr>\n",
       "    <tr>\n",
       "      <th>16060</th>\n",
       "      <td>2015-03-01</td>\n",
       "      <td>1</td>\n",
       "      <td>3</td>\n",
       "      <td>2015-02-12 09:27:00</td>\n",
       "      <td>2015-02-01</td>\n",
       "      <td>2015</td>\n",
       "      <td>cliente_ativo</td>\n",
       "      <td>NaN</td>\n",
       "      <td>1</td>\n",
       "      <td>0</td>\n",
       "      <td>0</td>\n",
       "    </tr>\n",
       "    <tr>\n",
       "      <th>29544</th>\n",
       "      <td>2015-04-01</td>\n",
       "      <td>1</td>\n",
       "      <td>3</td>\n",
       "      <td>2015-02-12 09:27:00</td>\n",
       "      <td>2015-02-01</td>\n",
       "      <td>2015</td>\n",
       "      <td>cliente_ativo</td>\n",
       "      <td>NaN</td>\n",
       "      <td>1</td>\n",
       "      <td>0</td>\n",
       "      <td>0</td>\n",
       "    </tr>\n",
       "    <tr>\n",
       "      <th>45665</th>\n",
       "      <td>2015-05-01</td>\n",
       "      <td>1</td>\n",
       "      <td>3</td>\n",
       "      <td>2015-02-12 09:27:00</td>\n",
       "      <td>2015-02-01</td>\n",
       "      <td>2015</td>\n",
       "      <td>cliente_ativo</td>\n",
       "      <td>NaN</td>\n",
       "      <td>1</td>\n",
       "      <td>0</td>\n",
       "      <td>0</td>\n",
       "    </tr>\n",
       "    <tr>\n",
       "      <th>63930</th>\n",
       "      <td>2015-06-01</td>\n",
       "      <td>1</td>\n",
       "      <td>3</td>\n",
       "      <td>2015-02-12 09:27:00</td>\n",
       "      <td>2015-02-01</td>\n",
       "      <td>2015</td>\n",
       "      <td>cliente_ativo</td>\n",
       "      <td>838.0</td>\n",
       "      <td>1</td>\n",
       "      <td>0</td>\n",
       "      <td>1</td>\n",
       "    </tr>\n",
       "  </tbody>\n",
       "</table>\n",
       "</div>"
      ],
      "text/plain": [
       "           month  key  cd_cliente data_primeiro_contrato mes_primeiro_contrato  ano_primeiro_contrato   tipo_cliente  valor_contrato  user  new  active\n",
       "5871  2015-02-01    1           3    2015-02-12 09:27:00            2015-02-01                   2015  cliente_ativo           387.0     1    1       1\n",
       "16060 2015-03-01    1           3    2015-02-12 09:27:00            2015-02-01                   2015  cliente_ativo             NaN     1    0       0\n",
       "29544 2015-04-01    1           3    2015-02-12 09:27:00            2015-02-01                   2015  cliente_ativo             NaN     1    0       0\n",
       "45665 2015-05-01    1           3    2015-02-12 09:27:00            2015-02-01                   2015  cliente_ativo             NaN     1    0       0\n",
       "63930 2015-06-01    1           3    2015-02-12 09:27:00            2015-02-01                   2015  cliente_ativo           838.0     1    0       1"
      ]
     },
     "execution_count": 275,
     "metadata": {},
     "output_type": "execute_result"
    }
   ],
   "source": [
    "report[report['cd_cliente'] == 3].head()"
   ]
  },
  {
   "cell_type": "markdown",
   "id": "ef3ce9b7",
   "metadata": {
    "ExecuteTime": {
     "end_time": "2022-09-11T17:20:30.622164Z",
     "start_time": "2022-09-11T17:20:30.601174Z"
    }
   },
   "source": [
    "Agora posso gerar um relatório mensal se eu quiser:"
   ]
  },
  {
   "cell_type": "markdown",
   "id": "85dd4974",
   "metadata": {
    "ExecuteTime": {
     "end_time": "2022-09-11T21:56:10.726658Z",
     "start_time": "2022-09-11T21:56:10.709645Z"
    }
   },
   "source": [
    "### Relatório de receita mensal:"
   ]
  },
  {
   "cell_type": "code",
   "execution_count": 277,
   "id": "6a1b683a",
   "metadata": {
    "ExecuteTime": {
     "end_time": "2022-09-11T17:20:50.931967Z",
     "start_time": "2022-09-11T17:20:50.609157Z"
    },
    "scrolled": false
   },
   "outputs": [
    {
     "data": {
      "text/html": [
       "<div>\n",
       "<style scoped>\n",
       "    .dataframe tbody tr th:only-of-type {\n",
       "        vertical-align: middle;\n",
       "    }\n",
       "\n",
       "    .dataframe tbody tr th {\n",
       "        vertical-align: top;\n",
       "    }\n",
       "\n",
       "    .dataframe thead th {\n",
       "        text-align: right;\n",
       "    }\n",
       "</style>\n",
       "<table border=\"1\" class=\"dataframe\">\n",
       "  <thead>\n",
       "    <tr style=\"text-align: right;\">\n",
       "      <th></th>\n",
       "      <th>valor_contrato</th>\n",
       "      <th>user</th>\n",
       "      <th>new</th>\n",
       "      <th>active</th>\n",
       "    </tr>\n",
       "    <tr>\n",
       "      <th>month</th>\n",
       "      <th></th>\n",
       "      <th></th>\n",
       "      <th></th>\n",
       "      <th></th>\n",
       "    </tr>\n",
       "  </thead>\n",
       "  <tbody>\n",
       "    <tr>\n",
       "      <th>2015-01-01</th>\n",
       "      <td>5362224.0</td>\n",
       "      <td>5869</td>\n",
       "      <td>5869</td>\n",
       "      <td>5869</td>\n",
       "    </tr>\n",
       "    <tr>\n",
       "      <th>2015-02-01</th>\n",
       "      <td>5323471.0</td>\n",
       "      <td>10189</td>\n",
       "      <td>4320</td>\n",
       "      <td>5847</td>\n",
       "    </tr>\n",
       "    <tr>\n",
       "      <th>2015-03-01</th>\n",
       "      <td>5410444.0</td>\n",
       "      <td>13484</td>\n",
       "      <td>3295</td>\n",
       "      <td>5864</td>\n",
       "    </tr>\n",
       "    <tr>\n",
       "      <th>2015-04-01</th>\n",
       "      <td>5375127.0</td>\n",
       "      <td>16121</td>\n",
       "      <td>2637</td>\n",
       "      <td>5920</td>\n",
       "    </tr>\n",
       "    <tr>\n",
       "      <th>2015-05-01</th>\n",
       "      <td>5506214.0</td>\n",
       "      <td>18265</td>\n",
       "      <td>2144</td>\n",
       "      <td>5845</td>\n",
       "    </tr>\n",
       "    <tr>\n",
       "      <th>2015-06-01</th>\n",
       "      <td>5304112.0</td>\n",
       "      <td>19991</td>\n",
       "      <td>1726</td>\n",
       "      <td>5771</td>\n",
       "    </tr>\n",
       "    <tr>\n",
       "      <th>2015-07-01</th>\n",
       "      <td>5242365.0</td>\n",
       "      <td>21506</td>\n",
       "      <td>1515</td>\n",
       "      <td>5740</td>\n",
       "    </tr>\n",
       "    <tr>\n",
       "      <th>2015-08-01</th>\n",
       "      <td>5437820.0</td>\n",
       "      <td>22917</td>\n",
       "      <td>1411</td>\n",
       "      <td>5904</td>\n",
       "    </tr>\n",
       "    <tr>\n",
       "      <th>2015-09-01</th>\n",
       "      <td>5215421.0</td>\n",
       "      <td>24057</td>\n",
       "      <td>1140</td>\n",
       "      <td>5826</td>\n",
       "    </tr>\n",
       "    <tr>\n",
       "      <th>2015-10-01</th>\n",
       "      <td>5375388.0</td>\n",
       "      <td>25126</td>\n",
       "      <td>1069</td>\n",
       "      <td>5875</td>\n",
       "    </tr>\n",
       "    <tr>\n",
       "      <th>2015-11-01</th>\n",
       "      <td>5227136.0</td>\n",
       "      <td>26075</td>\n",
       "      <td>949</td>\n",
       "      <td>5804</td>\n",
       "    </tr>\n",
       "    <tr>\n",
       "      <th>2015-12-01</th>\n",
       "      <td>5470592.0</td>\n",
       "      <td>26892</td>\n",
       "      <td>817</td>\n",
       "      <td>5810</td>\n",
       "    </tr>\n",
       "    <tr>\n",
       "      <th>2016-01-01</th>\n",
       "      <td>5539851.0</td>\n",
       "      <td>27700</td>\n",
       "      <td>808</td>\n",
       "      <td>5998</td>\n",
       "    </tr>\n",
       "    <tr>\n",
       "      <th>2016-02-01</th>\n",
       "      <td>5230778.0</td>\n",
       "      <td>28411</td>\n",
       "      <td>711</td>\n",
       "      <td>5741</td>\n",
       "    </tr>\n",
       "    <tr>\n",
       "      <th>2016-03-01</th>\n",
       "      <td>5300367.0</td>\n",
       "      <td>29054</td>\n",
       "      <td>643</td>\n",
       "      <td>5775</td>\n",
       "    </tr>\n",
       "    <tr>\n",
       "      <th>2016-04-01</th>\n",
       "      <td>5221889.0</td>\n",
       "      <td>29697</td>\n",
       "      <td>643</td>\n",
       "      <td>5854</td>\n",
       "    </tr>\n",
       "    <tr>\n",
       "      <th>2016-05-01</th>\n",
       "      <td>5095880.0</td>\n",
       "      <td>30317</td>\n",
       "      <td>620</td>\n",
       "      <td>5653</td>\n",
       "    </tr>\n",
       "    <tr>\n",
       "      <th>2016-06-01</th>\n",
       "      <td>5285695.0</td>\n",
       "      <td>30892</td>\n",
       "      <td>575</td>\n",
       "      <td>5774</td>\n",
       "    </tr>\n",
       "    <tr>\n",
       "      <th>2016-07-01</th>\n",
       "      <td>5397647.0</td>\n",
       "      <td>31405</td>\n",
       "      <td>513</td>\n",
       "      <td>5878</td>\n",
       "    </tr>\n",
       "    <tr>\n",
       "      <th>2016-08-01</th>\n",
       "      <td>5352863.0</td>\n",
       "      <td>31910</td>\n",
       "      <td>505</td>\n",
       "      <td>5804</td>\n",
       "    </tr>\n",
       "    <tr>\n",
       "      <th>2016-09-01</th>\n",
       "      <td>5298366.0</td>\n",
       "      <td>32422</td>\n",
       "      <td>512</td>\n",
       "      <td>5859</td>\n",
       "    </tr>\n",
       "    <tr>\n",
       "      <th>2016-10-01</th>\n",
       "      <td>5486575.0</td>\n",
       "      <td>32901</td>\n",
       "      <td>479</td>\n",
       "      <td>5839</td>\n",
       "    </tr>\n",
       "    <tr>\n",
       "      <th>2016-11-01</th>\n",
       "      <td>5345798.0</td>\n",
       "      <td>33340</td>\n",
       "      <td>439</td>\n",
       "      <td>5835</td>\n",
       "    </tr>\n",
       "    <tr>\n",
       "      <th>2016-12-01</th>\n",
       "      <td>5434559.0</td>\n",
       "      <td>33744</td>\n",
       "      <td>404</td>\n",
       "      <td>5849</td>\n",
       "    </tr>\n",
       "    <tr>\n",
       "      <th>2017-01-01</th>\n",
       "      <td>5391116.0</td>\n",
       "      <td>34162</td>\n",
       "      <td>418</td>\n",
       "      <td>5798</td>\n",
       "    </tr>\n",
       "    <tr>\n",
       "      <th>2017-02-01</th>\n",
       "      <td>5165956.0</td>\n",
       "      <td>34548</td>\n",
       "      <td>386</td>\n",
       "      <td>5743</td>\n",
       "    </tr>\n",
       "    <tr>\n",
       "      <th>2017-03-01</th>\n",
       "      <td>5450058.0</td>\n",
       "      <td>34928</td>\n",
       "      <td>380</td>\n",
       "      <td>5863</td>\n",
       "    </tr>\n",
       "    <tr>\n",
       "      <th>2017-04-01</th>\n",
       "      <td>5261698.0</td>\n",
       "      <td>35267</td>\n",
       "      <td>339</td>\n",
       "      <td>5835</td>\n",
       "    </tr>\n",
       "    <tr>\n",
       "      <th>2017-05-01</th>\n",
       "      <td>5299919.0</td>\n",
       "      <td>35624</td>\n",
       "      <td>357</td>\n",
       "      <td>5883</td>\n",
       "    </tr>\n",
       "    <tr>\n",
       "      <th>2017-06-01</th>\n",
       "      <td>5453323.0</td>\n",
       "      <td>35971</td>\n",
       "      <td>347</td>\n",
       "      <td>5895</td>\n",
       "    </tr>\n",
       "    <tr>\n",
       "      <th>2017-07-01</th>\n",
       "      <td>5343333.0</td>\n",
       "      <td>36307</td>\n",
       "      <td>336</td>\n",
       "      <td>5885</td>\n",
       "    </tr>\n",
       "    <tr>\n",
       "      <th>2017-08-01</th>\n",
       "      <td>5289897.0</td>\n",
       "      <td>36622</td>\n",
       "      <td>315</td>\n",
       "      <td>5750</td>\n",
       "    </tr>\n",
       "    <tr>\n",
       "      <th>2017-09-01</th>\n",
       "      <td>5233094.0</td>\n",
       "      <td>36930</td>\n",
       "      <td>308</td>\n",
       "      <td>5787</td>\n",
       "    </tr>\n",
       "    <tr>\n",
       "      <th>2017-10-01</th>\n",
       "      <td>5420317.0</td>\n",
       "      <td>37232</td>\n",
       "      <td>302</td>\n",
       "      <td>5894</td>\n",
       "    </tr>\n",
       "    <tr>\n",
       "      <th>2017-11-01</th>\n",
       "      <td>5405295.0</td>\n",
       "      <td>37535</td>\n",
       "      <td>303</td>\n",
       "      <td>5895</td>\n",
       "    </tr>\n",
       "    <tr>\n",
       "      <th>2017-12-01</th>\n",
       "      <td>5275149.0</td>\n",
       "      <td>37836</td>\n",
       "      <td>301</td>\n",
       "      <td>5863</td>\n",
       "    </tr>\n",
       "    <tr>\n",
       "      <th>2018-01-01</th>\n",
       "      <td>5319339.0</td>\n",
       "      <td>38122</td>\n",
       "      <td>286</td>\n",
       "      <td>5868</td>\n",
       "    </tr>\n",
       "    <tr>\n",
       "      <th>2018-02-01</th>\n",
       "      <td>5349785.0</td>\n",
       "      <td>38405</td>\n",
       "      <td>283</td>\n",
       "      <td>5812</td>\n",
       "    </tr>\n",
       "    <tr>\n",
       "      <th>2018-03-01</th>\n",
       "      <td>5417678.0</td>\n",
       "      <td>38678</td>\n",
       "      <td>273</td>\n",
       "      <td>5897</td>\n",
       "    </tr>\n",
       "    <tr>\n",
       "      <th>2018-04-01</th>\n",
       "      <td>5334355.0</td>\n",
       "      <td>38951</td>\n",
       "      <td>273</td>\n",
       "      <td>5862</td>\n",
       "    </tr>\n",
       "    <tr>\n",
       "      <th>2018-05-01</th>\n",
       "      <td>5249652.0</td>\n",
       "      <td>39201</td>\n",
       "      <td>250</td>\n",
       "      <td>5824</td>\n",
       "    </tr>\n",
       "    <tr>\n",
       "      <th>2018-06-01</th>\n",
       "      <td>5357176.0</td>\n",
       "      <td>39470</td>\n",
       "      <td>269</td>\n",
       "      <td>5866</td>\n",
       "    </tr>\n",
       "    <tr>\n",
       "      <th>2018-07-01</th>\n",
       "      <td>5395916.0</td>\n",
       "      <td>39704</td>\n",
       "      <td>234</td>\n",
       "      <td>5946</td>\n",
       "    </tr>\n",
       "    <tr>\n",
       "      <th>2018-08-01</th>\n",
       "      <td>5294770.0</td>\n",
       "      <td>39919</td>\n",
       "      <td>215</td>\n",
       "      <td>5812</td>\n",
       "    </tr>\n",
       "    <tr>\n",
       "      <th>2018-09-01</th>\n",
       "      <td>5501513.0</td>\n",
       "      <td>40142</td>\n",
       "      <td>223</td>\n",
       "      <td>5932</td>\n",
       "    </tr>\n",
       "    <tr>\n",
       "      <th>2018-10-01</th>\n",
       "      <td>5224907.0</td>\n",
       "      <td>40351</td>\n",
       "      <td>209</td>\n",
       "      <td>5772</td>\n",
       "    </tr>\n",
       "    <tr>\n",
       "      <th>2018-11-01</th>\n",
       "      <td>5392149.0</td>\n",
       "      <td>40570</td>\n",
       "      <td>219</td>\n",
       "      <td>5814</td>\n",
       "    </tr>\n",
       "    <tr>\n",
       "      <th>2018-12-01</th>\n",
       "      <td>5175699.0</td>\n",
       "      <td>40771</td>\n",
       "      <td>201</td>\n",
       "      <td>5767</td>\n",
       "    </tr>\n",
       "    <tr>\n",
       "      <th>2019-01-01</th>\n",
       "      <td>5433198.0</td>\n",
       "      <td>40983</td>\n",
       "      <td>212</td>\n",
       "      <td>5852</td>\n",
       "    </tr>\n",
       "    <tr>\n",
       "      <th>2019-02-01</th>\n",
       "      <td>5433236.0</td>\n",
       "      <td>41202</td>\n",
       "      <td>219</td>\n",
       "      <td>5902</td>\n",
       "    </tr>\n",
       "    <tr>\n",
       "      <th>2019-03-01</th>\n",
       "      <td>5382796.0</td>\n",
       "      <td>41412</td>\n",
       "      <td>210</td>\n",
       "      <td>5890</td>\n",
       "    </tr>\n",
       "    <tr>\n",
       "      <th>2019-04-01</th>\n",
       "      <td>5305785.0</td>\n",
       "      <td>41609</td>\n",
       "      <td>197</td>\n",
       "      <td>5856</td>\n",
       "    </tr>\n",
       "    <tr>\n",
       "      <th>2019-05-01</th>\n",
       "      <td>5305449.0</td>\n",
       "      <td>41788</td>\n",
       "      <td>179</td>\n",
       "      <td>5757</td>\n",
       "    </tr>\n",
       "    <tr>\n",
       "      <th>2019-06-01</th>\n",
       "      <td>5298037.0</td>\n",
       "      <td>41972</td>\n",
       "      <td>184</td>\n",
       "      <td>5858</td>\n",
       "    </tr>\n",
       "    <tr>\n",
       "      <th>2019-07-01</th>\n",
       "      <td>5362440.0</td>\n",
       "      <td>42164</td>\n",
       "      <td>192</td>\n",
       "      <td>5879</td>\n",
       "    </tr>\n",
       "    <tr>\n",
       "      <th>2019-08-01</th>\n",
       "      <td>5512623.0</td>\n",
       "      <td>42342</td>\n",
       "      <td>178</td>\n",
       "      <td>5851</td>\n",
       "    </tr>\n",
       "    <tr>\n",
       "      <th>2019-09-01</th>\n",
       "      <td>5493981.0</td>\n",
       "      <td>42546</td>\n",
       "      <td>204</td>\n",
       "      <td>5867</td>\n",
       "    </tr>\n",
       "    <tr>\n",
       "      <th>2019-10-01</th>\n",
       "      <td>5466799.0</td>\n",
       "      <td>42711</td>\n",
       "      <td>165</td>\n",
       "      <td>5968</td>\n",
       "    </tr>\n",
       "    <tr>\n",
       "      <th>2019-11-01</th>\n",
       "      <td>5297292.0</td>\n",
       "      <td>42912</td>\n",
       "      <td>201</td>\n",
       "      <td>5799</td>\n",
       "    </tr>\n",
       "    <tr>\n",
       "      <th>2019-12-01</th>\n",
       "      <td>5321272.0</td>\n",
       "      <td>43081</td>\n",
       "      <td>169</td>\n",
       "      <td>5782</td>\n",
       "    </tr>\n",
       "    <tr>\n",
       "      <th>2020-01-01</th>\n",
       "      <td>5444497.0</td>\n",
       "      <td>43245</td>\n",
       "      <td>164</td>\n",
       "      <td>5898</td>\n",
       "    </tr>\n",
       "    <tr>\n",
       "      <th>2020-02-01</th>\n",
       "      <td>5417930.0</td>\n",
       "      <td>43400</td>\n",
       "      <td>155</td>\n",
       "      <td>5823</td>\n",
       "    </tr>\n",
       "    <tr>\n",
       "      <th>2020-03-01</th>\n",
       "      <td>5550146.0</td>\n",
       "      <td>43569</td>\n",
       "      <td>169</td>\n",
       "      <td>5986</td>\n",
       "    </tr>\n",
       "    <tr>\n",
       "      <th>2020-04-01</th>\n",
       "      <td>5250501.0</td>\n",
       "      <td>43716</td>\n",
       "      <td>147</td>\n",
       "      <td>5859</td>\n",
       "    </tr>\n",
       "    <tr>\n",
       "      <th>2020-05-01</th>\n",
       "      <td>5325932.0</td>\n",
       "      <td>43869</td>\n",
       "      <td>153</td>\n",
       "      <td>5786</td>\n",
       "    </tr>\n",
       "    <tr>\n",
       "      <th>2020-06-01</th>\n",
       "      <td>5387930.0</td>\n",
       "      <td>44004</td>\n",
       "      <td>135</td>\n",
       "      <td>5800</td>\n",
       "    </tr>\n",
       "    <tr>\n",
       "      <th>2020-07-01</th>\n",
       "      <td>5418068.0</td>\n",
       "      <td>44163</td>\n",
       "      <td>159</td>\n",
       "      <td>5899</td>\n",
       "    </tr>\n",
       "    <tr>\n",
       "      <th>2020-08-01</th>\n",
       "      <td>5354545.0</td>\n",
       "      <td>44308</td>\n",
       "      <td>145</td>\n",
       "      <td>5831</td>\n",
       "    </tr>\n",
       "    <tr>\n",
       "      <th>2020-09-01</th>\n",
       "      <td>5345199.0</td>\n",
       "      <td>44453</td>\n",
       "      <td>145</td>\n",
       "      <td>5776</td>\n",
       "    </tr>\n",
       "    <tr>\n",
       "      <th>2020-10-01</th>\n",
       "      <td>5274418.0</td>\n",
       "      <td>44588</td>\n",
       "      <td>135</td>\n",
       "      <td>5822</td>\n",
       "    </tr>\n",
       "    <tr>\n",
       "      <th>2020-11-01</th>\n",
       "      <td>5295153.0</td>\n",
       "      <td>44716</td>\n",
       "      <td>128</td>\n",
       "      <td>5800</td>\n",
       "    </tr>\n",
       "    <tr>\n",
       "      <th>2020-12-01</th>\n",
       "      <td>5435528.0</td>\n",
       "      <td>44842</td>\n",
       "      <td>126</td>\n",
       "      <td>5919</td>\n",
       "    </tr>\n",
       "  </tbody>\n",
       "</table>\n",
       "</div>"
      ],
      "text/plain": [
       "            valor_contrato   user   new  active\n",
       "month                                          \n",
       "2015-01-01       5362224.0   5869  5869    5869\n",
       "2015-02-01       5323471.0  10189  4320    5847\n",
       "2015-03-01       5410444.0  13484  3295    5864\n",
       "2015-04-01       5375127.0  16121  2637    5920\n",
       "2015-05-01       5506214.0  18265  2144    5845\n",
       "2015-06-01       5304112.0  19991  1726    5771\n",
       "2015-07-01       5242365.0  21506  1515    5740\n",
       "2015-08-01       5437820.0  22917  1411    5904\n",
       "2015-09-01       5215421.0  24057  1140    5826\n",
       "2015-10-01       5375388.0  25126  1069    5875\n",
       "2015-11-01       5227136.0  26075   949    5804\n",
       "2015-12-01       5470592.0  26892   817    5810\n",
       "2016-01-01       5539851.0  27700   808    5998\n",
       "2016-02-01       5230778.0  28411   711    5741\n",
       "2016-03-01       5300367.0  29054   643    5775\n",
       "2016-04-01       5221889.0  29697   643    5854\n",
       "2016-05-01       5095880.0  30317   620    5653\n",
       "2016-06-01       5285695.0  30892   575    5774\n",
       "2016-07-01       5397647.0  31405   513    5878\n",
       "2016-08-01       5352863.0  31910   505    5804\n",
       "2016-09-01       5298366.0  32422   512    5859\n",
       "2016-10-01       5486575.0  32901   479    5839\n",
       "2016-11-01       5345798.0  33340   439    5835\n",
       "2016-12-01       5434559.0  33744   404    5849\n",
       "2017-01-01       5391116.0  34162   418    5798\n",
       "2017-02-01       5165956.0  34548   386    5743\n",
       "2017-03-01       5450058.0  34928   380    5863\n",
       "2017-04-01       5261698.0  35267   339    5835\n",
       "2017-05-01       5299919.0  35624   357    5883\n",
       "2017-06-01       5453323.0  35971   347    5895\n",
       "2017-07-01       5343333.0  36307   336    5885\n",
       "2017-08-01       5289897.0  36622   315    5750\n",
       "2017-09-01       5233094.0  36930   308    5787\n",
       "2017-10-01       5420317.0  37232   302    5894\n",
       "2017-11-01       5405295.0  37535   303    5895\n",
       "2017-12-01       5275149.0  37836   301    5863\n",
       "2018-01-01       5319339.0  38122   286    5868\n",
       "2018-02-01       5349785.0  38405   283    5812\n",
       "2018-03-01       5417678.0  38678   273    5897\n",
       "2018-04-01       5334355.0  38951   273    5862\n",
       "2018-05-01       5249652.0  39201   250    5824\n",
       "2018-06-01       5357176.0  39470   269    5866\n",
       "2018-07-01       5395916.0  39704   234    5946\n",
       "2018-08-01       5294770.0  39919   215    5812\n",
       "2018-09-01       5501513.0  40142   223    5932\n",
       "2018-10-01       5224907.0  40351   209    5772\n",
       "2018-11-01       5392149.0  40570   219    5814\n",
       "2018-12-01       5175699.0  40771   201    5767\n",
       "2019-01-01       5433198.0  40983   212    5852\n",
       "2019-02-01       5433236.0  41202   219    5902\n",
       "2019-03-01       5382796.0  41412   210    5890\n",
       "2019-04-01       5305785.0  41609   197    5856\n",
       "2019-05-01       5305449.0  41788   179    5757\n",
       "2019-06-01       5298037.0  41972   184    5858\n",
       "2019-07-01       5362440.0  42164   192    5879\n",
       "2019-08-01       5512623.0  42342   178    5851\n",
       "2019-09-01       5493981.0  42546   204    5867\n",
       "2019-10-01       5466799.0  42711   165    5968\n",
       "2019-11-01       5297292.0  42912   201    5799\n",
       "2019-12-01       5321272.0  43081   169    5782\n",
       "2020-01-01       5444497.0  43245   164    5898\n",
       "2020-02-01       5417930.0  43400   155    5823\n",
       "2020-03-01       5550146.0  43569   169    5986\n",
       "2020-04-01       5250501.0  43716   147    5859\n",
       "2020-05-01       5325932.0  43869   153    5786\n",
       "2020-06-01       5387930.0  44004   135    5800\n",
       "2020-07-01       5418068.0  44163   159    5899\n",
       "2020-08-01       5354545.0  44308   145    5831\n",
       "2020-09-01       5345199.0  44453   145    5776\n",
       "2020-10-01       5274418.0  44588   135    5822\n",
       "2020-11-01       5295153.0  44716   128    5800\n",
       "2020-12-01       5435528.0  44842   126    5919"
      ]
     },
     "execution_count": 277,
     "metadata": {},
     "output_type": "execute_result"
    }
   ],
   "source": [
    "report.groupby('month')[['valor_contrato','user','new','active']].agg('sum')"
   ]
  },
  {
   "cell_type": "markdown",
   "id": "95c361b5",
   "metadata": {},
   "source": [
    "**O que este relatório nos mostra:**\n",
    "* No mês de janeiro de 2015 tivemos 5869 clientes ativos, 5869 novos clientes totalizando uma receita de R$$ 5.362.24,00\n",
    "* No mês de fevereiro tivemos um acréscimo de 4320 novos clientes, porém alguns não alugaram veículos, o total de clientes ativos este mês foi 5847 e a receita deste mês foi R$ 5.323.471,00"
   ]
  },
  {
   "cell_type": "markdown",
   "id": "25604846",
   "metadata": {},
   "source": [
    "**Nesta próxima etapa, adicionarei um sinalizador que me indicará se o cliente estava ativo ou não no mês anterior.**"
   ]
  },
  {
   "cell_type": "code",
   "execution_count": 278,
   "id": "2b057dee",
   "metadata": {
    "ExecuteTime": {
     "end_time": "2022-09-11T17:29:11.415925Z",
     "start_time": "2022-09-11T17:29:10.448712Z"
    }
   },
   "outputs": [],
   "source": [
    "report['ativo_mes_anterior'] = (report.sort_values(by=['month'], ascending=True).groupby(['cd_cliente'])['active'].shift(1))"
   ]
  },
  {
   "cell_type": "code",
   "execution_count": 282,
   "id": "b89b542e",
   "metadata": {
    "ExecuteTime": {
     "end_time": "2022-09-11T17:31:04.968634Z",
     "start_time": "2022-09-11T17:31:04.923637Z"
    }
   },
   "outputs": [
    {
     "data": {
      "text/html": [
       "<div>\n",
       "<style scoped>\n",
       "    .dataframe tbody tr th:only-of-type {\n",
       "        vertical-align: middle;\n",
       "    }\n",
       "\n",
       "    .dataframe tbody tr th {\n",
       "        vertical-align: top;\n",
       "    }\n",
       "\n",
       "    .dataframe thead th {\n",
       "        text-align: right;\n",
       "    }\n",
       "</style>\n",
       "<table border=\"1\" class=\"dataframe\">\n",
       "  <thead>\n",
       "    <tr style=\"text-align: right;\">\n",
       "      <th></th>\n",
       "      <th>month</th>\n",
       "      <th>key</th>\n",
       "      <th>cd_cliente</th>\n",
       "      <th>data_primeiro_contrato</th>\n",
       "      <th>mes_primeiro_contrato</th>\n",
       "      <th>ano_primeiro_contrato</th>\n",
       "      <th>tipo_cliente</th>\n",
       "      <th>valor_contrato</th>\n",
       "      <th>user</th>\n",
       "      <th>new</th>\n",
       "      <th>active</th>\n",
       "      <th>ativo_mes_anterior</th>\n",
       "    </tr>\n",
       "  </thead>\n",
       "  <tbody>\n",
       "    <tr>\n",
       "      <th>0</th>\n",
       "      <td>2015-01-01</td>\n",
       "      <td>1</td>\n",
       "      <td>1</td>\n",
       "      <td>2015-01-26 05:58:00</td>\n",
       "      <td>2015-01-01</td>\n",
       "      <td>2015</td>\n",
       "      <td>cliente_ativo</td>\n",
       "      <td>229.0</td>\n",
       "      <td>1</td>\n",
       "      <td>1</td>\n",
       "      <td>1</td>\n",
       "      <td>NaN</td>\n",
       "    </tr>\n",
       "    <tr>\n",
       "      <th>5869</th>\n",
       "      <td>2015-02-01</td>\n",
       "      <td>1</td>\n",
       "      <td>1</td>\n",
       "      <td>2015-01-26 05:58:00</td>\n",
       "      <td>2015-01-01</td>\n",
       "      <td>2015</td>\n",
       "      <td>cliente_ativo</td>\n",
       "      <td>198.0</td>\n",
       "      <td>1</td>\n",
       "      <td>0</td>\n",
       "      <td>1</td>\n",
       "      <td>1.0</td>\n",
       "    </tr>\n",
       "    <tr>\n",
       "      <th>16058</th>\n",
       "      <td>2015-03-01</td>\n",
       "      <td>1</td>\n",
       "      <td>1</td>\n",
       "      <td>2015-01-26 05:58:00</td>\n",
       "      <td>2015-01-01</td>\n",
       "      <td>2015</td>\n",
       "      <td>cliente_ativo</td>\n",
       "      <td>NaN</td>\n",
       "      <td>1</td>\n",
       "      <td>0</td>\n",
       "      <td>0</td>\n",
       "      <td>1.0</td>\n",
       "    </tr>\n",
       "    <tr>\n",
       "      <th>29542</th>\n",
       "      <td>2015-04-01</td>\n",
       "      <td>1</td>\n",
       "      <td>1</td>\n",
       "      <td>2015-01-26 05:58:00</td>\n",
       "      <td>2015-01-01</td>\n",
       "      <td>2015</td>\n",
       "      <td>cliente_ativo</td>\n",
       "      <td>NaN</td>\n",
       "      <td>1</td>\n",
       "      <td>0</td>\n",
       "      <td>0</td>\n",
       "      <td>0.0</td>\n",
       "    </tr>\n",
       "    <tr>\n",
       "      <th>45663</th>\n",
       "      <td>2015-05-01</td>\n",
       "      <td>1</td>\n",
       "      <td>1</td>\n",
       "      <td>2015-01-26 05:58:00</td>\n",
       "      <td>2015-01-01</td>\n",
       "      <td>2015</td>\n",
       "      <td>cliente_ativo</td>\n",
       "      <td>859.0</td>\n",
       "      <td>1</td>\n",
       "      <td>0</td>\n",
       "      <td>1</td>\n",
       "      <td>0.0</td>\n",
       "    </tr>\n",
       "  </tbody>\n",
       "</table>\n",
       "</div>"
      ],
      "text/plain": [
       "           month  key  cd_cliente data_primeiro_contrato mes_primeiro_contrato  ano_primeiro_contrato   tipo_cliente  valor_contrato  user  new  active  ativo_mes_anterior\n",
       "0     2015-01-01    1           1    2015-01-26 05:58:00            2015-01-01                   2015  cliente_ativo           229.0     1    1       1                 NaN\n",
       "5869  2015-02-01    1           1    2015-01-26 05:58:00            2015-01-01                   2015  cliente_ativo           198.0     1    0       1                 1.0\n",
       "16058 2015-03-01    1           1    2015-01-26 05:58:00            2015-01-01                   2015  cliente_ativo             NaN     1    0       0                 1.0\n",
       "29542 2015-04-01    1           1    2015-01-26 05:58:00            2015-01-01                   2015  cliente_ativo             NaN     1    0       0                 0.0\n",
       "45663 2015-05-01    1           1    2015-01-26 05:58:00            2015-01-01                   2015  cliente_ativo           859.0     1    0       1                 0.0"
      ]
     },
     "execution_count": 282,
     "metadata": {},
     "output_type": "execute_result"
    }
   ],
   "source": [
    "report[report['cd_cliente'] == 1].head()"
   ]
  },
  {
   "cell_type": "markdown",
   "id": "fd6bd3a5",
   "metadata": {},
   "source": [
    "**Agora, criarei nova coluna para saber quando meu cliente passa de ativo para inativo e vice versa**"
   ]
  },
  {
   "cell_type": "code",
   "execution_count": 285,
   "id": "b91b9e68",
   "metadata": {
    "ExecuteTime": {
     "end_time": "2022-09-11T17:32:14.556512Z",
     "start_time": "2022-09-11T17:32:14.514536Z"
    }
   },
   "outputs": [],
   "source": [
    "report['mudou_status'] = (report['active'] != report['ativo_mes_anterior'])*1"
   ]
  },
  {
   "cell_type": "code",
   "execution_count": 286,
   "id": "a1f82279",
   "metadata": {
    "ExecuteTime": {
     "end_time": "2022-09-11T17:32:22.981534Z",
     "start_time": "2022-09-11T17:32:22.920543Z"
    }
   },
   "outputs": [
    {
     "data": {
      "text/html": [
       "<div>\n",
       "<style scoped>\n",
       "    .dataframe tbody tr th:only-of-type {\n",
       "        vertical-align: middle;\n",
       "    }\n",
       "\n",
       "    .dataframe tbody tr th {\n",
       "        vertical-align: top;\n",
       "    }\n",
       "\n",
       "    .dataframe thead th {\n",
       "        text-align: right;\n",
       "    }\n",
       "</style>\n",
       "<table border=\"1\" class=\"dataframe\">\n",
       "  <thead>\n",
       "    <tr style=\"text-align: right;\">\n",
       "      <th></th>\n",
       "      <th>month</th>\n",
       "      <th>key</th>\n",
       "      <th>cd_cliente</th>\n",
       "      <th>data_primeiro_contrato</th>\n",
       "      <th>mes_primeiro_contrato</th>\n",
       "      <th>ano_primeiro_contrato</th>\n",
       "      <th>tipo_cliente</th>\n",
       "      <th>valor_contrato</th>\n",
       "      <th>user</th>\n",
       "      <th>new</th>\n",
       "      <th>active</th>\n",
       "      <th>ativo_mes_anterior</th>\n",
       "      <th>mudou_status</th>\n",
       "    </tr>\n",
       "  </thead>\n",
       "  <tbody>\n",
       "    <tr>\n",
       "      <th>0</th>\n",
       "      <td>2015-01-01</td>\n",
       "      <td>1</td>\n",
       "      <td>1</td>\n",
       "      <td>2015-01-26 05:58:00</td>\n",
       "      <td>2015-01-01</td>\n",
       "      <td>2015</td>\n",
       "      <td>cliente_ativo</td>\n",
       "      <td>229.0</td>\n",
       "      <td>1</td>\n",
       "      <td>1</td>\n",
       "      <td>1</td>\n",
       "      <td>NaN</td>\n",
       "      <td>1</td>\n",
       "    </tr>\n",
       "    <tr>\n",
       "      <th>5869</th>\n",
       "      <td>2015-02-01</td>\n",
       "      <td>1</td>\n",
       "      <td>1</td>\n",
       "      <td>2015-01-26 05:58:00</td>\n",
       "      <td>2015-01-01</td>\n",
       "      <td>2015</td>\n",
       "      <td>cliente_ativo</td>\n",
       "      <td>198.0</td>\n",
       "      <td>1</td>\n",
       "      <td>0</td>\n",
       "      <td>1</td>\n",
       "      <td>1.0</td>\n",
       "      <td>0</td>\n",
       "    </tr>\n",
       "    <tr>\n",
       "      <th>16058</th>\n",
       "      <td>2015-03-01</td>\n",
       "      <td>1</td>\n",
       "      <td>1</td>\n",
       "      <td>2015-01-26 05:58:00</td>\n",
       "      <td>2015-01-01</td>\n",
       "      <td>2015</td>\n",
       "      <td>cliente_ativo</td>\n",
       "      <td>NaN</td>\n",
       "      <td>1</td>\n",
       "      <td>0</td>\n",
       "      <td>0</td>\n",
       "      <td>1.0</td>\n",
       "      <td>1</td>\n",
       "    </tr>\n",
       "    <tr>\n",
       "      <th>29542</th>\n",
       "      <td>2015-04-01</td>\n",
       "      <td>1</td>\n",
       "      <td>1</td>\n",
       "      <td>2015-01-26 05:58:00</td>\n",
       "      <td>2015-01-01</td>\n",
       "      <td>2015</td>\n",
       "      <td>cliente_ativo</td>\n",
       "      <td>NaN</td>\n",
       "      <td>1</td>\n",
       "      <td>0</td>\n",
       "      <td>0</td>\n",
       "      <td>0.0</td>\n",
       "      <td>0</td>\n",
       "    </tr>\n",
       "    <tr>\n",
       "      <th>45663</th>\n",
       "      <td>2015-05-01</td>\n",
       "      <td>1</td>\n",
       "      <td>1</td>\n",
       "      <td>2015-01-26 05:58:00</td>\n",
       "      <td>2015-01-01</td>\n",
       "      <td>2015</td>\n",
       "      <td>cliente_ativo</td>\n",
       "      <td>859.0</td>\n",
       "      <td>1</td>\n",
       "      <td>0</td>\n",
       "      <td>1</td>\n",
       "      <td>0.0</td>\n",
       "      <td>1</td>\n",
       "    </tr>\n",
       "  </tbody>\n",
       "</table>\n",
       "</div>"
      ],
      "text/plain": [
       "           month  key  cd_cliente data_primeiro_contrato mes_primeiro_contrato  ano_primeiro_contrato   tipo_cliente  valor_contrato  user  new  active  ativo_mes_anterior  mudou_status\n",
       "0     2015-01-01    1           1    2015-01-26 05:58:00            2015-01-01                   2015  cliente_ativo           229.0     1    1       1                 NaN             1\n",
       "5869  2015-02-01    1           1    2015-01-26 05:58:00            2015-01-01                   2015  cliente_ativo           198.0     1    0       1                 1.0             0\n",
       "16058 2015-03-01    1           1    2015-01-26 05:58:00            2015-01-01                   2015  cliente_ativo             NaN     1    0       0                 1.0             1\n",
       "29542 2015-04-01    1           1    2015-01-26 05:58:00            2015-01-01                   2015  cliente_ativo             NaN     1    0       0                 0.0             0\n",
       "45663 2015-05-01    1           1    2015-01-26 05:58:00            2015-01-01                   2015  cliente_ativo           859.0     1    0       1                 0.0             1"
      ]
     },
     "execution_count": 286,
     "metadata": {},
     "output_type": "execute_result"
    }
   ],
   "source": [
    "report[report['cd_cliente'] == 1].head()"
   ]
  },
  {
   "cell_type": "markdown",
   "id": "03fd20e0",
   "metadata": {},
   "source": [
    "Criarei uma coluna chamada session_id, essa coluna me adicionará uma unidade no contador cada vez que o cliente mudar de status, como estou avaliando por mês, observe que o cliente com o id 1 mudou de status 6 vezes durante o ano de 2015."
   ]
  },
  {
   "cell_type": "code",
   "execution_count": 287,
   "id": "13232631",
   "metadata": {
    "ExecuteTime": {
     "end_time": "2022-09-11T17:34:47.057386Z",
     "start_time": "2022-09-11T17:34:45.989184Z"
    }
   },
   "outputs": [],
   "source": [
    "report['session_id'] = (report.sort_values(by=['month'], ascending=True)\n",
    "                       .groupby(['cd_cliente'])['mudou_status'].cumsum())"
   ]
  },
  {
   "cell_type": "code",
   "execution_count": 436,
   "id": "3c065e96",
   "metadata": {
    "ExecuteTime": {
     "end_time": "2022-09-11T21:57:15.133455Z",
     "start_time": "2022-09-11T21:57:15.077471Z"
    }
   },
   "outputs": [
    {
     "data": {
      "text/html": [
       "<div>\n",
       "<style scoped>\n",
       "    .dataframe tbody tr th:only-of-type {\n",
       "        vertical-align: middle;\n",
       "    }\n",
       "\n",
       "    .dataframe tbody tr th {\n",
       "        vertical-align: top;\n",
       "    }\n",
       "\n",
       "    .dataframe thead th {\n",
       "        text-align: right;\n",
       "    }\n",
       "</style>\n",
       "<table border=\"1\" class=\"dataframe\">\n",
       "  <thead>\n",
       "    <tr style=\"text-align: right;\">\n",
       "      <th></th>\n",
       "      <th>month</th>\n",
       "      <th>key</th>\n",
       "      <th>cd_cliente</th>\n",
       "      <th>data_primeiro_contrato</th>\n",
       "      <th>mes_primeiro_contrato</th>\n",
       "      <th>ano_primeiro_contrato</th>\n",
       "      <th>tipo_cliente</th>\n",
       "      <th>valor_contrato</th>\n",
       "      <th>user</th>\n",
       "      <th>new</th>\n",
       "      <th>active</th>\n",
       "      <th>ativo_mes_anterior</th>\n",
       "      <th>mudou_status</th>\n",
       "      <th>session_id</th>\n",
       "      <th>inativo</th>\n",
       "      <th>meses_inativo</th>\n",
       "      <th>churn_2m</th>\n",
       "    </tr>\n",
       "  </thead>\n",
       "  <tbody>\n",
       "    <tr>\n",
       "      <th>0</th>\n",
       "      <td>2015-01-01</td>\n",
       "      <td>1</td>\n",
       "      <td>1</td>\n",
       "      <td>2015-01-26 05:58:00</td>\n",
       "      <td>2015-01-01</td>\n",
       "      <td>2015</td>\n",
       "      <td>cliente_ativo</td>\n",
       "      <td>229.0</td>\n",
       "      <td>1</td>\n",
       "      <td>1</td>\n",
       "      <td>1</td>\n",
       "      <td>NaN</td>\n",
       "      <td>1</td>\n",
       "      <td>1</td>\n",
       "      <td>0</td>\n",
       "      <td>0</td>\n",
       "      <td>0</td>\n",
       "    </tr>\n",
       "    <tr>\n",
       "      <th>5869</th>\n",
       "      <td>2015-02-01</td>\n",
       "      <td>1</td>\n",
       "      <td>1</td>\n",
       "      <td>2015-01-26 05:58:00</td>\n",
       "      <td>2015-01-01</td>\n",
       "      <td>2015</td>\n",
       "      <td>cliente_ativo</td>\n",
       "      <td>198.0</td>\n",
       "      <td>1</td>\n",
       "      <td>0</td>\n",
       "      <td>1</td>\n",
       "      <td>1.0</td>\n",
       "      <td>0</td>\n",
       "      <td>1</td>\n",
       "      <td>0</td>\n",
       "      <td>0</td>\n",
       "      <td>0</td>\n",
       "    </tr>\n",
       "    <tr>\n",
       "      <th>16058</th>\n",
       "      <td>2015-03-01</td>\n",
       "      <td>1</td>\n",
       "      <td>1</td>\n",
       "      <td>2015-01-26 05:58:00</td>\n",
       "      <td>2015-01-01</td>\n",
       "      <td>2015</td>\n",
       "      <td>cliente_ativo</td>\n",
       "      <td>NaN</td>\n",
       "      <td>1</td>\n",
       "      <td>0</td>\n",
       "      <td>0</td>\n",
       "      <td>1.0</td>\n",
       "      <td>1</td>\n",
       "      <td>2</td>\n",
       "      <td>1</td>\n",
       "      <td>1</td>\n",
       "      <td>0</td>\n",
       "    </tr>\n",
       "    <tr>\n",
       "      <th>29542</th>\n",
       "      <td>2015-04-01</td>\n",
       "      <td>1</td>\n",
       "      <td>1</td>\n",
       "      <td>2015-01-26 05:58:00</td>\n",
       "      <td>2015-01-01</td>\n",
       "      <td>2015</td>\n",
       "      <td>cliente_ativo</td>\n",
       "      <td>NaN</td>\n",
       "      <td>1</td>\n",
       "      <td>0</td>\n",
       "      <td>0</td>\n",
       "      <td>0.0</td>\n",
       "      <td>0</td>\n",
       "      <td>2</td>\n",
       "      <td>1</td>\n",
       "      <td>2</td>\n",
       "      <td>1</td>\n",
       "    </tr>\n",
       "    <tr>\n",
       "      <th>45663</th>\n",
       "      <td>2015-05-01</td>\n",
       "      <td>1</td>\n",
       "      <td>1</td>\n",
       "      <td>2015-01-26 05:58:00</td>\n",
       "      <td>2015-01-01</td>\n",
       "      <td>2015</td>\n",
       "      <td>cliente_ativo</td>\n",
       "      <td>859.0</td>\n",
       "      <td>1</td>\n",
       "      <td>0</td>\n",
       "      <td>1</td>\n",
       "      <td>0.0</td>\n",
       "      <td>1</td>\n",
       "      <td>3</td>\n",
       "      <td>0</td>\n",
       "      <td>0</td>\n",
       "      <td>0</td>\n",
       "    </tr>\n",
       "  </tbody>\n",
       "</table>\n",
       "</div>"
      ],
      "text/plain": [
       "           month  key  cd_cliente data_primeiro_contrato mes_primeiro_contrato  ano_primeiro_contrato   tipo_cliente  valor_contrato  user  new  active  ativo_mes_anterior  mudou_status  session_id  inativo  meses_inativo  churn_2m\n",
       "0     2015-01-01    1           1    2015-01-26 05:58:00            2015-01-01                   2015  cliente_ativo           229.0     1    1       1                 NaN             1           1        0              0         0\n",
       "5869  2015-02-01    1           1    2015-01-26 05:58:00            2015-01-01                   2015  cliente_ativo           198.0     1    0       1                 1.0             0           1        0              0         0\n",
       "16058 2015-03-01    1           1    2015-01-26 05:58:00            2015-01-01                   2015  cliente_ativo             NaN     1    0       0                 1.0             1           2        1              1         0\n",
       "29542 2015-04-01    1           1    2015-01-26 05:58:00            2015-01-01                   2015  cliente_ativo             NaN     1    0       0                 0.0             0           2        1              2         1\n",
       "45663 2015-05-01    1           1    2015-01-26 05:58:00            2015-01-01                   2015  cliente_ativo           859.0     1    0       1                 0.0             1           3        0              0         0"
      ]
     },
     "execution_count": 436,
     "metadata": {},
     "output_type": "execute_result"
    }
   ],
   "source": [
    "report[report['cd_cliente'] == 1].head(5)"
   ]
  },
  {
   "cell_type": "markdown",
   "id": "46f27f50",
   "metadata": {},
   "source": [
    "Vou criar colunas para validar e fazer um somatório de quantos meses o cliente ficou inativo."
   ]
  },
  {
   "cell_type": "code",
   "execution_count": 290,
   "id": "8b72e283",
   "metadata": {
    "ExecuteTime": {
     "end_time": "2022-09-11T17:38:41.905750Z",
     "start_time": "2022-09-11T17:38:41.880210Z"
    }
   },
   "outputs": [],
   "source": [
    "report['inativo'] = (report['active'] == 0) * 1"
   ]
  },
  {
   "cell_type": "code",
   "execution_count": 368,
   "id": "f101d59d",
   "metadata": {
    "ExecuteTime": {
     "end_time": "2022-09-11T19:22:45.988250Z",
     "start_time": "2022-09-11T19:22:45.932764Z"
    }
   },
   "outputs": [
    {
     "data": {
      "text/html": [
       "<div>\n",
       "<style scoped>\n",
       "    .dataframe tbody tr th:only-of-type {\n",
       "        vertical-align: middle;\n",
       "    }\n",
       "\n",
       "    .dataframe tbody tr th {\n",
       "        vertical-align: top;\n",
       "    }\n",
       "\n",
       "    .dataframe thead th {\n",
       "        text-align: right;\n",
       "    }\n",
       "</style>\n",
       "<table border=\"1\" class=\"dataframe\">\n",
       "  <thead>\n",
       "    <tr style=\"text-align: right;\">\n",
       "      <th></th>\n",
       "      <th>month</th>\n",
       "      <th>key</th>\n",
       "      <th>cd_cliente</th>\n",
       "      <th>data_primeiro_contrato</th>\n",
       "      <th>mes_primeiro_contrato</th>\n",
       "      <th>ano_primeiro_contrato</th>\n",
       "      <th>tipo_cliente</th>\n",
       "      <th>valor_contrato</th>\n",
       "      <th>user</th>\n",
       "      <th>new</th>\n",
       "      <th>active</th>\n",
       "      <th>ativo_mes_anterior</th>\n",
       "      <th>mudou_status</th>\n",
       "      <th>session_id</th>\n",
       "      <th>inativo</th>\n",
       "      <th>meses_inativo</th>\n",
       "      <th>churn_2m</th>\n",
       "    </tr>\n",
       "  </thead>\n",
       "  <tbody>\n",
       "    <tr>\n",
       "      <th>0</th>\n",
       "      <td>2015-01-01</td>\n",
       "      <td>1</td>\n",
       "      <td>1</td>\n",
       "      <td>2015-01-26 05:58:00</td>\n",
       "      <td>2015-01-01</td>\n",
       "      <td>2015</td>\n",
       "      <td>cliente_ativo</td>\n",
       "      <td>229.0</td>\n",
       "      <td>1</td>\n",
       "      <td>1</td>\n",
       "      <td>1</td>\n",
       "      <td>NaN</td>\n",
       "      <td>1</td>\n",
       "      <td>1</td>\n",
       "      <td>0</td>\n",
       "      <td>0</td>\n",
       "      <td>0</td>\n",
       "    </tr>\n",
       "    <tr>\n",
       "      <th>5869</th>\n",
       "      <td>2015-02-01</td>\n",
       "      <td>1</td>\n",
       "      <td>1</td>\n",
       "      <td>2015-01-26 05:58:00</td>\n",
       "      <td>2015-01-01</td>\n",
       "      <td>2015</td>\n",
       "      <td>cliente_ativo</td>\n",
       "      <td>198.0</td>\n",
       "      <td>1</td>\n",
       "      <td>0</td>\n",
       "      <td>1</td>\n",
       "      <td>1.0</td>\n",
       "      <td>0</td>\n",
       "      <td>1</td>\n",
       "      <td>0</td>\n",
       "      <td>0</td>\n",
       "      <td>0</td>\n",
       "    </tr>\n",
       "    <tr>\n",
       "      <th>16058</th>\n",
       "      <td>2015-03-01</td>\n",
       "      <td>1</td>\n",
       "      <td>1</td>\n",
       "      <td>2015-01-26 05:58:00</td>\n",
       "      <td>2015-01-01</td>\n",
       "      <td>2015</td>\n",
       "      <td>cliente_ativo</td>\n",
       "      <td>NaN</td>\n",
       "      <td>1</td>\n",
       "      <td>0</td>\n",
       "      <td>0</td>\n",
       "      <td>1.0</td>\n",
       "      <td>1</td>\n",
       "      <td>2</td>\n",
       "      <td>1</td>\n",
       "      <td>1</td>\n",
       "      <td>0</td>\n",
       "    </tr>\n",
       "    <tr>\n",
       "      <th>29542</th>\n",
       "      <td>2015-04-01</td>\n",
       "      <td>1</td>\n",
       "      <td>1</td>\n",
       "      <td>2015-01-26 05:58:00</td>\n",
       "      <td>2015-01-01</td>\n",
       "      <td>2015</td>\n",
       "      <td>cliente_ativo</td>\n",
       "      <td>NaN</td>\n",
       "      <td>1</td>\n",
       "      <td>0</td>\n",
       "      <td>0</td>\n",
       "      <td>0.0</td>\n",
       "      <td>0</td>\n",
       "      <td>2</td>\n",
       "      <td>1</td>\n",
       "      <td>2</td>\n",
       "      <td>1</td>\n",
       "    </tr>\n",
       "    <tr>\n",
       "      <th>45663</th>\n",
       "      <td>2015-05-01</td>\n",
       "      <td>1</td>\n",
       "      <td>1</td>\n",
       "      <td>2015-01-26 05:58:00</td>\n",
       "      <td>2015-01-01</td>\n",
       "      <td>2015</td>\n",
       "      <td>cliente_ativo</td>\n",
       "      <td>859.0</td>\n",
       "      <td>1</td>\n",
       "      <td>0</td>\n",
       "      <td>1</td>\n",
       "      <td>0.0</td>\n",
       "      <td>1</td>\n",
       "      <td>3</td>\n",
       "      <td>0</td>\n",
       "      <td>0</td>\n",
       "      <td>0</td>\n",
       "    </tr>\n",
       "  </tbody>\n",
       "</table>\n",
       "</div>"
      ],
      "text/plain": [
       "           month  key  cd_cliente data_primeiro_contrato mes_primeiro_contrato  ano_primeiro_contrato   tipo_cliente  valor_contrato  user  new  active  ativo_mes_anterior  mudou_status  session_id  inativo  meses_inativo  churn_2m\n",
       "0     2015-01-01    1           1    2015-01-26 05:58:00            2015-01-01                   2015  cliente_ativo           229.0     1    1       1                 NaN             1           1        0              0         0\n",
       "5869  2015-02-01    1           1    2015-01-26 05:58:00            2015-01-01                   2015  cliente_ativo           198.0     1    0       1                 1.0             0           1        0              0         0\n",
       "16058 2015-03-01    1           1    2015-01-26 05:58:00            2015-01-01                   2015  cliente_ativo             NaN     1    0       0                 1.0             1           2        1              1         0\n",
       "29542 2015-04-01    1           1    2015-01-26 05:58:00            2015-01-01                   2015  cliente_ativo             NaN     1    0       0                 0.0             0           2        1              2         1\n",
       "45663 2015-05-01    1           1    2015-01-26 05:58:00            2015-01-01                   2015  cliente_ativo           859.0     1    0       1                 0.0             1           3        0              0         0"
      ]
     },
     "execution_count": 368,
     "metadata": {},
     "output_type": "execute_result"
    }
   ],
   "source": [
    "report[report['cd_cliente'] == 1].head(5)"
   ]
  },
  {
   "cell_type": "code",
   "execution_count": 292,
   "id": "d839482d",
   "metadata": {
    "ExecuteTime": {
     "end_time": "2022-09-11T17:40:17.455891Z",
     "start_time": "2022-09-11T17:40:16.060596Z"
    }
   },
   "outputs": [],
   "source": [
    "#coluna dos meses inativos de forma cumulatória\n",
    "report['meses_inativo'] = (report.sort_values(by=['month'], ascending=True) \n",
    ".groupby(['cd_cliente','session_id'])['inativo'].cumsum())"
   ]
  },
  {
   "cell_type": "code",
   "execution_count": 369,
   "id": "2d853420",
   "metadata": {
    "ExecuteTime": {
     "end_time": "2022-09-11T19:22:52.106181Z",
     "start_time": "2022-09-11T19:22:52.062206Z"
    }
   },
   "outputs": [
    {
     "data": {
      "text/html": [
       "<div>\n",
       "<style scoped>\n",
       "    .dataframe tbody tr th:only-of-type {\n",
       "        vertical-align: middle;\n",
       "    }\n",
       "\n",
       "    .dataframe tbody tr th {\n",
       "        vertical-align: top;\n",
       "    }\n",
       "\n",
       "    .dataframe thead th {\n",
       "        text-align: right;\n",
       "    }\n",
       "</style>\n",
       "<table border=\"1\" class=\"dataframe\">\n",
       "  <thead>\n",
       "    <tr style=\"text-align: right;\">\n",
       "      <th></th>\n",
       "      <th>month</th>\n",
       "      <th>key</th>\n",
       "      <th>cd_cliente</th>\n",
       "      <th>data_primeiro_contrato</th>\n",
       "      <th>mes_primeiro_contrato</th>\n",
       "      <th>ano_primeiro_contrato</th>\n",
       "      <th>tipo_cliente</th>\n",
       "      <th>valor_contrato</th>\n",
       "      <th>user</th>\n",
       "      <th>new</th>\n",
       "      <th>active</th>\n",
       "      <th>ativo_mes_anterior</th>\n",
       "      <th>mudou_status</th>\n",
       "      <th>session_id</th>\n",
       "      <th>inativo</th>\n",
       "      <th>meses_inativo</th>\n",
       "      <th>churn_2m</th>\n",
       "    </tr>\n",
       "  </thead>\n",
       "  <tbody>\n",
       "    <tr>\n",
       "      <th>0</th>\n",
       "      <td>2015-01-01</td>\n",
       "      <td>1</td>\n",
       "      <td>1</td>\n",
       "      <td>2015-01-26 05:58:00</td>\n",
       "      <td>2015-01-01</td>\n",
       "      <td>2015</td>\n",
       "      <td>cliente_ativo</td>\n",
       "      <td>229.0</td>\n",
       "      <td>1</td>\n",
       "      <td>1</td>\n",
       "      <td>1</td>\n",
       "      <td>NaN</td>\n",
       "      <td>1</td>\n",
       "      <td>1</td>\n",
       "      <td>0</td>\n",
       "      <td>0</td>\n",
       "      <td>0</td>\n",
       "    </tr>\n",
       "    <tr>\n",
       "      <th>5869</th>\n",
       "      <td>2015-02-01</td>\n",
       "      <td>1</td>\n",
       "      <td>1</td>\n",
       "      <td>2015-01-26 05:58:00</td>\n",
       "      <td>2015-01-01</td>\n",
       "      <td>2015</td>\n",
       "      <td>cliente_ativo</td>\n",
       "      <td>198.0</td>\n",
       "      <td>1</td>\n",
       "      <td>0</td>\n",
       "      <td>1</td>\n",
       "      <td>1.0</td>\n",
       "      <td>0</td>\n",
       "      <td>1</td>\n",
       "      <td>0</td>\n",
       "      <td>0</td>\n",
       "      <td>0</td>\n",
       "    </tr>\n",
       "    <tr>\n",
       "      <th>16058</th>\n",
       "      <td>2015-03-01</td>\n",
       "      <td>1</td>\n",
       "      <td>1</td>\n",
       "      <td>2015-01-26 05:58:00</td>\n",
       "      <td>2015-01-01</td>\n",
       "      <td>2015</td>\n",
       "      <td>cliente_ativo</td>\n",
       "      <td>NaN</td>\n",
       "      <td>1</td>\n",
       "      <td>0</td>\n",
       "      <td>0</td>\n",
       "      <td>1.0</td>\n",
       "      <td>1</td>\n",
       "      <td>2</td>\n",
       "      <td>1</td>\n",
       "      <td>1</td>\n",
       "      <td>0</td>\n",
       "    </tr>\n",
       "    <tr>\n",
       "      <th>29542</th>\n",
       "      <td>2015-04-01</td>\n",
       "      <td>1</td>\n",
       "      <td>1</td>\n",
       "      <td>2015-01-26 05:58:00</td>\n",
       "      <td>2015-01-01</td>\n",
       "      <td>2015</td>\n",
       "      <td>cliente_ativo</td>\n",
       "      <td>NaN</td>\n",
       "      <td>1</td>\n",
       "      <td>0</td>\n",
       "      <td>0</td>\n",
       "      <td>0.0</td>\n",
       "      <td>0</td>\n",
       "      <td>2</td>\n",
       "      <td>1</td>\n",
       "      <td>2</td>\n",
       "      <td>1</td>\n",
       "    </tr>\n",
       "    <tr>\n",
       "      <th>45663</th>\n",
       "      <td>2015-05-01</td>\n",
       "      <td>1</td>\n",
       "      <td>1</td>\n",
       "      <td>2015-01-26 05:58:00</td>\n",
       "      <td>2015-01-01</td>\n",
       "      <td>2015</td>\n",
       "      <td>cliente_ativo</td>\n",
       "      <td>859.0</td>\n",
       "      <td>1</td>\n",
       "      <td>0</td>\n",
       "      <td>1</td>\n",
       "      <td>0.0</td>\n",
       "      <td>1</td>\n",
       "      <td>3</td>\n",
       "      <td>0</td>\n",
       "      <td>0</td>\n",
       "      <td>0</td>\n",
       "    </tr>\n",
       "  </tbody>\n",
       "</table>\n",
       "</div>"
      ],
      "text/plain": [
       "           month  key  cd_cliente data_primeiro_contrato mes_primeiro_contrato  ano_primeiro_contrato   tipo_cliente  valor_contrato  user  new  active  ativo_mes_anterior  mudou_status  session_id  inativo  meses_inativo  churn_2m\n",
       "0     2015-01-01    1           1    2015-01-26 05:58:00            2015-01-01                   2015  cliente_ativo           229.0     1    1       1                 NaN             1           1        0              0         0\n",
       "5869  2015-02-01    1           1    2015-01-26 05:58:00            2015-01-01                   2015  cliente_ativo           198.0     1    0       1                 1.0             0           1        0              0         0\n",
       "16058 2015-03-01    1           1    2015-01-26 05:58:00            2015-01-01                   2015  cliente_ativo             NaN     1    0       0                 1.0             1           2        1              1         0\n",
       "29542 2015-04-01    1           1    2015-01-26 05:58:00            2015-01-01                   2015  cliente_ativo             NaN     1    0       0                 0.0             0           2        1              2         1\n",
       "45663 2015-05-01    1           1    2015-01-26 05:58:00            2015-01-01                   2015  cliente_ativo           859.0     1    0       1                 0.0             1           3        0              0         0"
      ]
     },
     "execution_count": 369,
     "metadata": {},
     "output_type": "execute_result"
    }
   ],
   "source": [
    "report[report['cd_cliente'] == 1].head(5)"
   ]
  },
  {
   "cell_type": "markdown",
   "id": "3926515b",
   "metadata": {},
   "source": [
    "### Dataframe final"
   ]
  },
  {
   "cell_type": "markdown",
   "id": "7caae90f",
   "metadata": {},
   "source": [
    "Observe que no ano de 2015, o usuário de id 1 teve 3 churns bimestrais e 1 churn trimestral."
   ]
  },
  {
   "cell_type": "markdown",
   "id": "40efdbc7",
   "metadata": {},
   "source": [
    "# 3.0 VALIDAÇÃO DA HIPÓTESE:\n",
    "\n",
    "- Como indicado nas premissas, considerarei apenas o churn de um período maior do que 2 meses, mas este código permite que essa condição fique a cargo do usuário. Caso ele julgue que o ideal é o churn de 3 meses, 6 meses, ou 1 ano, basta que seja alterado no script abaixo.\n",
    "- Conforme premissa, usarei duas fórmulas para detectar o churn, sendo elas:\n",
    "    * Fórmula 1: w['churn_2m% _1'] = (w['churn_2m'] /(w['user'] + w['new'])) * 100 -> O percentual de churn dividido pela soma dos usuários ativos + os novos\n",
    "    * Fórmula 2: w['churn_2m% _2'] = (w['churn_2m'] /w['user']) * 100 -> Percentual de churn dividido pelo percentual de usuários ativos."
   ]
  },
  {
   "cell_type": "code",
   "execution_count": 388,
   "id": "084708f2",
   "metadata": {
    "ExecuteTime": {
     "end_time": "2022-09-11T19:32:52.436371Z",
     "start_time": "2022-09-11T19:32:52.370391Z"
    }
   },
   "outputs": [],
   "source": [
    "report['churn_2m'] = (report['meses_inativo'] >= 2) * 1"
   ]
  },
  {
   "cell_type": "code",
   "execution_count": 389,
   "id": "67d47c61",
   "metadata": {
    "ExecuteTime": {
     "end_time": "2022-09-11T19:32:53.629065Z",
     "start_time": "2022-09-11T19:32:53.516130Z"
    }
   },
   "outputs": [
    {
     "data": {
      "text/html": [
       "<div>\n",
       "<style scoped>\n",
       "    .dataframe tbody tr th:only-of-type {\n",
       "        vertical-align: middle;\n",
       "    }\n",
       "\n",
       "    .dataframe tbody tr th {\n",
       "        vertical-align: top;\n",
       "    }\n",
       "\n",
       "    .dataframe thead th {\n",
       "        text-align: right;\n",
       "    }\n",
       "</style>\n",
       "<table border=\"1\" class=\"dataframe\">\n",
       "  <thead>\n",
       "    <tr style=\"text-align: right;\">\n",
       "      <th></th>\n",
       "      <th>month</th>\n",
       "      <th>key</th>\n",
       "      <th>cd_cliente</th>\n",
       "      <th>data_primeiro_contrato</th>\n",
       "      <th>mes_primeiro_contrato</th>\n",
       "      <th>ano_primeiro_contrato</th>\n",
       "      <th>tipo_cliente</th>\n",
       "      <th>valor_contrato</th>\n",
       "      <th>user</th>\n",
       "      <th>new</th>\n",
       "      <th>active</th>\n",
       "      <th>ativo_mes_anterior</th>\n",
       "      <th>mudou_status</th>\n",
       "      <th>session_id</th>\n",
       "      <th>inativo</th>\n",
       "      <th>meses_inativo</th>\n",
       "      <th>churn_2m</th>\n",
       "    </tr>\n",
       "  </thead>\n",
       "  <tbody>\n",
       "    <tr>\n",
       "      <th>0</th>\n",
       "      <td>2015-01-01</td>\n",
       "      <td>1</td>\n",
       "      <td>1</td>\n",
       "      <td>2015-01-26 05:58:00</td>\n",
       "      <td>2015-01-01</td>\n",
       "      <td>2015</td>\n",
       "      <td>cliente_ativo</td>\n",
       "      <td>229.0</td>\n",
       "      <td>1</td>\n",
       "      <td>1</td>\n",
       "      <td>1</td>\n",
       "      <td>NaN</td>\n",
       "      <td>1</td>\n",
       "      <td>1</td>\n",
       "      <td>0</td>\n",
       "      <td>0</td>\n",
       "      <td>0</td>\n",
       "    </tr>\n",
       "    <tr>\n",
       "      <th>5869</th>\n",
       "      <td>2015-02-01</td>\n",
       "      <td>1</td>\n",
       "      <td>1</td>\n",
       "      <td>2015-01-26 05:58:00</td>\n",
       "      <td>2015-01-01</td>\n",
       "      <td>2015</td>\n",
       "      <td>cliente_ativo</td>\n",
       "      <td>198.0</td>\n",
       "      <td>1</td>\n",
       "      <td>0</td>\n",
       "      <td>1</td>\n",
       "      <td>1.0</td>\n",
       "      <td>0</td>\n",
       "      <td>1</td>\n",
       "      <td>0</td>\n",
       "      <td>0</td>\n",
       "      <td>0</td>\n",
       "    </tr>\n",
       "  </tbody>\n",
       "</table>\n",
       "</div>"
      ],
      "text/plain": [
       "          month  key  cd_cliente data_primeiro_contrato mes_primeiro_contrato  ano_primeiro_contrato   tipo_cliente  valor_contrato  user  new  active  ativo_mes_anterior  mudou_status  session_id  inativo  meses_inativo  churn_2m\n",
       "0    2015-01-01    1           1    2015-01-26 05:58:00            2015-01-01                   2015  cliente_ativo           229.0     1    1       1                 NaN             1           1        0              0         0\n",
       "5869 2015-02-01    1           1    2015-01-26 05:58:00            2015-01-01                   2015  cliente_ativo           198.0     1    0       1                 1.0             0           1        0              0         0"
      ]
     },
     "execution_count": 389,
     "metadata": {},
     "output_type": "execute_result"
    }
   ],
   "source": [
    "report[report['cd_cliente'] == 1].head(2)"
   ]
  },
  {
   "cell_type": "markdown",
   "id": "1e7851e9",
   "metadata": {},
   "source": [
    "Criarei um novo dataframe"
   ]
  },
  {
   "cell_type": "code",
   "execution_count": 408,
   "id": "e56a6d84",
   "metadata": {
    "ExecuteTime": {
     "end_time": "2022-09-11T19:38:26.638462Z",
     "start_time": "2022-09-11T19:38:26.074785Z"
    }
   },
   "outputs": [
    {
     "data": {
      "text/html": [
       "<div>\n",
       "<style scoped>\n",
       "    .dataframe tbody tr th:only-of-type {\n",
       "        vertical-align: middle;\n",
       "    }\n",
       "\n",
       "    .dataframe tbody tr th {\n",
       "        vertical-align: top;\n",
       "    }\n",
       "\n",
       "    .dataframe thead th {\n",
       "        text-align: right;\n",
       "    }\n",
       "</style>\n",
       "<table border=\"1\" class=\"dataframe\">\n",
       "  <thead>\n",
       "    <tr style=\"text-align: right;\">\n",
       "      <th></th>\n",
       "      <th>tipo_cliente</th>\n",
       "      <th>valor_contrato</th>\n",
       "      <th>cd_cliente</th>\n",
       "      <th>user</th>\n",
       "      <th>new</th>\n",
       "      <th>active</th>\n",
       "      <th>churn_2m</th>\n",
       "    </tr>\n",
       "  </thead>\n",
       "  <tbody>\n",
       "    <tr>\n",
       "      <th>0</th>\n",
       "      <td>cliente_ativo</td>\n",
       "      <td>381248611.0</td>\n",
       "      <td>51113298417</td>\n",
       "      <td>2488035</td>\n",
       "      <td>40771</td>\n",
       "      <td>415659</td>\n",
       "      <td>1770288</td>\n",
       "    </tr>\n",
       "    <tr>\n",
       "      <th>1</th>\n",
       "      <td>cliente_novo</td>\n",
       "      <td>4106820.0</td>\n",
       "      <td>2302878042</td>\n",
       "      <td>55091</td>\n",
       "      <td>4071</td>\n",
       "      <td>4998</td>\n",
       "      <td>45367</td>\n",
       "    </tr>\n",
       "  </tbody>\n",
       "</table>\n",
       "</div>"
      ],
      "text/plain": [
       "    tipo_cliente  valor_contrato   cd_cliente     user    new  active  churn_2m\n",
       "0  cliente_ativo     381248611.0  51113298417  2488035  40771  415659   1770288\n",
       "1   cliente_novo       4106820.0   2302878042    55091   4071    4998     45367"
      ]
     },
     "execution_count": 408,
     "metadata": {},
     "output_type": "execute_result"
    }
   ],
   "source": [
    "w = report.groupby('tipo_cliente')[['valor_contrato','cd_cliente','user','new','active','churn_2m']].agg('sum').reset_index()\n",
    "w"
   ]
  },
  {
   "cell_type": "code",
   "execution_count": 409,
   "id": "671a8ec1",
   "metadata": {
    "ExecuteTime": {
     "end_time": "2022-09-11T19:38:27.107316Z",
     "start_time": "2022-09-11T19:38:27.075336Z"
    }
   },
   "outputs": [
    {
     "data": {
      "text/html": [
       "<div>\n",
       "<style scoped>\n",
       "    .dataframe tbody tr th:only-of-type {\n",
       "        vertical-align: middle;\n",
       "    }\n",
       "\n",
       "    .dataframe tbody tr th {\n",
       "        vertical-align: top;\n",
       "    }\n",
       "\n",
       "    .dataframe thead th {\n",
       "        text-align: right;\n",
       "    }\n",
       "</style>\n",
       "<table border=\"1\" class=\"dataframe\">\n",
       "  <thead>\n",
       "    <tr style=\"text-align: right;\">\n",
       "      <th></th>\n",
       "      <th>tipo_cliente</th>\n",
       "      <th>valor_contrato</th>\n",
       "      <th>cd_cliente</th>\n",
       "      <th>user</th>\n",
       "      <th>new</th>\n",
       "      <th>active</th>\n",
       "      <th>churn_2m</th>\n",
       "      <th>churn_2m% _1</th>\n",
       "    </tr>\n",
       "  </thead>\n",
       "  <tbody>\n",
       "    <tr>\n",
       "      <th>0</th>\n",
       "      <td>cliente_ativo</td>\n",
       "      <td>381248611.0</td>\n",
       "      <td>51113298417</td>\n",
       "      <td>2488035</td>\n",
       "      <td>40771</td>\n",
       "      <td>415659</td>\n",
       "      <td>1770288</td>\n",
       "      <td>70.004896</td>\n",
       "    </tr>\n",
       "    <tr>\n",
       "      <th>1</th>\n",
       "      <td>cliente_novo</td>\n",
       "      <td>4106820.0</td>\n",
       "      <td>2302878042</td>\n",
       "      <td>55091</td>\n",
       "      <td>4071</td>\n",
       "      <td>4998</td>\n",
       "      <td>45367</td>\n",
       "      <td>76.682668</td>\n",
       "    </tr>\n",
       "  </tbody>\n",
       "</table>\n",
       "</div>"
      ],
      "text/plain": [
       "    tipo_cliente  valor_contrato   cd_cliente     user    new  active  churn_2m  churn_2m% _1\n",
       "0  cliente_ativo     381248611.0  51113298417  2488035  40771  415659   1770288     70.004896\n",
       "1   cliente_novo       4106820.0   2302878042    55091   4071    4998     45367     76.682668"
      ]
     },
     "execution_count": 409,
     "metadata": {},
     "output_type": "execute_result"
    }
   ],
   "source": [
    "w['churn_2m% _1'] = (w['churn_2m'] /(w['user'] + w['new'])) * 100\n",
    "w"
   ]
  },
  {
   "cell_type": "markdown",
   "id": "e9e3042b",
   "metadata": {},
   "source": [
    "**Aqui temos o churn dos clientes de acordo com a primeira fórmula.**"
   ]
  },
  {
   "cell_type": "markdown",
   "id": "f3c5f271",
   "metadata": {},
   "source": [
    "### Churn segunda fórmula"
   ]
  },
  {
   "cell_type": "code",
   "execution_count": 410,
   "id": "005a09e5",
   "metadata": {
    "ExecuteTime": {
     "end_time": "2022-09-11T19:38:27.590603Z",
     "start_time": "2022-09-11T19:38:27.570615Z"
    }
   },
   "outputs": [
    {
     "data": {
      "text/html": [
       "<div>\n",
       "<style scoped>\n",
       "    .dataframe tbody tr th:only-of-type {\n",
       "        vertical-align: middle;\n",
       "    }\n",
       "\n",
       "    .dataframe tbody tr th {\n",
       "        vertical-align: top;\n",
       "    }\n",
       "\n",
       "    .dataframe thead th {\n",
       "        text-align: right;\n",
       "    }\n",
       "</style>\n",
       "<table border=\"1\" class=\"dataframe\">\n",
       "  <thead>\n",
       "    <tr style=\"text-align: right;\">\n",
       "      <th></th>\n",
       "      <th>tipo_cliente</th>\n",
       "      <th>valor_contrato</th>\n",
       "      <th>cd_cliente</th>\n",
       "      <th>user</th>\n",
       "      <th>new</th>\n",
       "      <th>active</th>\n",
       "      <th>churn_2m</th>\n",
       "      <th>churn_2m% _1</th>\n",
       "      <th>churn_2m% _2</th>\n",
       "    </tr>\n",
       "  </thead>\n",
       "  <tbody>\n",
       "    <tr>\n",
       "      <th>0</th>\n",
       "      <td>cliente_ativo</td>\n",
       "      <td>381248611.0</td>\n",
       "      <td>51113298417</td>\n",
       "      <td>2488035</td>\n",
       "      <td>40771</td>\n",
       "      <td>415659</td>\n",
       "      <td>1770288</td>\n",
       "      <td>70.004896</td>\n",
       "      <td>71.152054</td>\n",
       "    </tr>\n",
       "    <tr>\n",
       "      <th>1</th>\n",
       "      <td>cliente_novo</td>\n",
       "      <td>4106820.0</td>\n",
       "      <td>2302878042</td>\n",
       "      <td>55091</td>\n",
       "      <td>4071</td>\n",
       "      <td>4998</td>\n",
       "      <td>45367</td>\n",
       "      <td>76.682668</td>\n",
       "      <td>82.349204</td>\n",
       "    </tr>\n",
       "  </tbody>\n",
       "</table>\n",
       "</div>"
      ],
      "text/plain": [
       "    tipo_cliente  valor_contrato   cd_cliente     user    new  active  churn_2m  churn_2m% _1  churn_2m% _2\n",
       "0  cliente_ativo     381248611.0  51113298417  2488035  40771  415659   1770288     70.004896     71.152054\n",
       "1   cliente_novo       4106820.0   2302878042    55091   4071    4998     45367     76.682668     82.349204"
      ]
     },
     "execution_count": 410,
     "metadata": {},
     "output_type": "execute_result"
    }
   ],
   "source": [
    "w['churn_2m% _2'] = (w['churn_2m'] /w['user']) * 100\n",
    "w"
   ]
  },
  {
   "cell_type": "markdown",
   "id": "61bb5522",
   "metadata": {
    "ExecuteTime": {
     "end_time": "2022-09-11T19:45:06.531324Z",
     "start_time": "2022-09-11T19:45:06.510338Z"
    }
   },
   "source": [
    "**Aqui temos o churn dos clientes de acordo com a segunda fórmula.**"
   ]
  },
  {
   "cell_type": "markdown",
   "id": "a46ce2e8",
   "metadata": {},
   "source": [
    "# 3.1 CONCLUSÃO:\n",
    "\n",
    "### “O churn de novos clientes é maior do que o churn de clientes ativos” - VERDADEIRO\n",
    "\n",
    "- Conforme o dataset w criado, o churn de novos clientes é de 76,68% enquanto o churn de clientes ativos é de 70,00%.\n"
   ]
  },
  {
   "cell_type": "markdown",
   "id": "353979aa",
   "metadata": {},
   "source": [
    "# Abaixo uma análise detalhada do churn por ano."
   ]
  },
  {
   "cell_type": "code",
   "execution_count": 417,
   "id": "5b2feae0",
   "metadata": {
    "ExecuteTime": {
     "end_time": "2022-09-11T19:38:55.791109Z",
     "start_time": "2022-09-11T19:38:55.075519Z"
    }
   },
   "outputs": [],
   "source": [
    "w1 = report[report['tipo_cliente'] == 'cliente_novo']\n",
    "w2 = report[report['tipo_cliente'] == 'cliente_ativo']"
   ]
  },
  {
   "cell_type": "markdown",
   "id": "87267faa",
   "metadata": {},
   "source": [
    "**Churn anual de clientes novos:**"
   ]
  },
  {
   "cell_type": "code",
   "execution_count": 425,
   "id": "5971055d",
   "metadata": {
    "ExecuteTime": {
     "end_time": "2022-09-11T19:45:49.401210Z",
     "start_time": "2022-09-11T19:45:49.360234Z"
    }
   },
   "outputs": [
    {
     "data": {
      "text/html": [
       "<div>\n",
       "<style scoped>\n",
       "    .dataframe tbody tr th:only-of-type {\n",
       "        vertical-align: middle;\n",
       "    }\n",
       "\n",
       "    .dataframe tbody tr th {\n",
       "        vertical-align: top;\n",
       "    }\n",
       "\n",
       "    .dataframe thead th {\n",
       "        text-align: right;\n",
       "    }\n",
       "</style>\n",
       "<table border=\"1\" class=\"dataframe\">\n",
       "  <thead>\n",
       "    <tr style=\"text-align: right;\">\n",
       "      <th></th>\n",
       "      <th>ano_primeiro_contrato</th>\n",
       "      <th>valor_contrato</th>\n",
       "      <th>cd_cliente</th>\n",
       "      <th>user</th>\n",
       "      <th>new</th>\n",
       "      <th>active</th>\n",
       "      <th>churn_2m</th>\n",
       "      <th>churn_2m%</th>\n",
       "    </tr>\n",
       "  </thead>\n",
       "  <tbody>\n",
       "    <tr>\n",
       "      <th>0</th>\n",
       "      <td>2019</td>\n",
       "      <td>2523870.0</td>\n",
       "      <td>1781553326</td>\n",
       "      <td>43190</td>\n",
       "      <td>2310</td>\n",
       "      <td>3077</td>\n",
       "      <td>37135</td>\n",
       "      <td>81.615385</td>\n",
       "    </tr>\n",
       "    <tr>\n",
       "      <th>1</th>\n",
       "      <td>2020</td>\n",
       "      <td>1582950.0</td>\n",
       "      <td>521324716</td>\n",
       "      <td>11901</td>\n",
       "      <td>1761</td>\n",
       "      <td>1921</td>\n",
       "      <td>8232</td>\n",
       "      <td>60.254721</td>\n",
       "    </tr>\n",
       "  </tbody>\n",
       "</table>\n",
       "</div>"
      ],
      "text/plain": [
       "   ano_primeiro_contrato  valor_contrato  cd_cliente   user   new  active  churn_2m  churn_2m%\n",
       "0                   2019       2523870.0  1781553326  43190  2310    3077     37135  81.615385\n",
       "1                   2020       1582950.0   521324716  11901  1761    1921      8232  60.254721"
      ]
     },
     "execution_count": 425,
     "metadata": {},
     "output_type": "execute_result"
    }
   ],
   "source": [
    "w1 = w1.groupby('ano_primeiro_contrato')[['valor_contrato','cd_cliente','user','new','active','churn_2m']].agg('sum').reset_index()\n",
    "w1['churn_2m%'] = (w1['churn_2m'] /(w1['user'] + w1['new'])) * 100\n",
    "w1"
   ]
  },
  {
   "cell_type": "markdown",
   "id": "6e885da3",
   "metadata": {},
   "source": [
    "**Churn anual de clientes ativos**"
   ]
  },
  {
   "cell_type": "code",
   "execution_count": 426,
   "id": "2fa995c2",
   "metadata": {
    "ExecuteTime": {
     "end_time": "2022-09-11T19:46:03.437409Z",
     "start_time": "2022-09-11T19:46:03.401407Z"
    }
   },
   "outputs": [
    {
     "data": {
      "text/html": [
       "<div>\n",
       "<style scoped>\n",
       "    .dataframe tbody tr th:only-of-type {\n",
       "        vertical-align: middle;\n",
       "    }\n",
       "\n",
       "    .dataframe tbody tr th {\n",
       "        vertical-align: top;\n",
       "    }\n",
       "\n",
       "    .dataframe thead th {\n",
       "        text-align: right;\n",
       "    }\n",
       "</style>\n",
       "<table border=\"1\" class=\"dataframe\">\n",
       "  <thead>\n",
       "    <tr style=\"text-align: right;\">\n",
       "      <th></th>\n",
       "      <th>ano_primeiro_contrato</th>\n",
       "      <th>valor_contrato</th>\n",
       "      <th>cd_cliente</th>\n",
       "      <th>user</th>\n",
       "      <th>new</th>\n",
       "      <th>active</th>\n",
       "      <th>churn_2m</th>\n",
       "      <th>churn_2m%</th>\n",
       "    </tr>\n",
       "  </thead>\n",
       "  <tbody>\n",
       "    <tr>\n",
       "      <th>0</th>\n",
       "      <td>2015</td>\n",
       "      <td>345024474.0</td>\n",
       "      <td>29924075389</td>\n",
       "      <td>1844012</td>\n",
       "      <td>26892</td>\n",
       "      <td>372501</td>\n",
       "      <td>1208573</td>\n",
       "      <td>65.540409</td>\n",
       "    </tr>\n",
       "    <tr>\n",
       "      <th>1</th>\n",
       "      <td>2016</td>\n",
       "      <td>23877665.0</td>\n",
       "      <td>11423163932</td>\n",
       "      <td>377985</td>\n",
       "      <td>6852</td>\n",
       "      <td>28197</td>\n",
       "      <td>324725</td>\n",
       "      <td>85.909494</td>\n",
       "    </tr>\n",
       "    <tr>\n",
       "      <th>2</th>\n",
       "      <td>2017</td>\n",
       "      <td>8051002.0</td>\n",
       "      <td>6231769898</td>\n",
       "      <td>175346</td>\n",
       "      <td>4092</td>\n",
       "      <td>9876</td>\n",
       "      <td>156237</td>\n",
       "      <td>89.102118</td>\n",
       "    </tr>\n",
       "    <tr>\n",
       "      <th>3</th>\n",
       "      <td>2018</td>\n",
       "      <td>4295470.0</td>\n",
       "      <td>3534289198</td>\n",
       "      <td>90692</td>\n",
       "      <td>2935</td>\n",
       "      <td>5085</td>\n",
       "      <td>80753</td>\n",
       "      <td>89.040930</td>\n",
       "    </tr>\n",
       "  </tbody>\n",
       "</table>\n",
       "</div>"
      ],
      "text/plain": [
       "   ano_primeiro_contrato  valor_contrato   cd_cliente     user    new  active  churn_2m  churn_2m%\n",
       "0                   2015     345024474.0  29924075389  1844012  26892  372501   1208573  65.540409\n",
       "1                   2016      23877665.0  11423163932   377985   6852   28197    324725  85.909494\n",
       "2                   2017       8051002.0   6231769898   175346   4092    9876    156237  89.102118\n",
       "3                   2018       4295470.0   3534289198    90692   2935    5085     80753  89.040930"
      ]
     },
     "execution_count": 426,
     "metadata": {},
     "output_type": "execute_result"
    }
   ],
   "source": [
    "w2 = w2.groupby('ano_primeiro_contrato')[['valor_contrato','cd_cliente','user','new','active','churn_2m']].agg('sum').reset_index()\n",
    "w2['churn_2m%'] = (w2['churn_2m'] /w2['user']) * 100\n",
    "w2"
   ]
  }
 ],
 "metadata": {
  "kernelspec": {
   "display_name": "Python 3 (ipykernel)",
   "language": "python",
   "name": "python3"
  },
  "language_info": {
   "codemirror_mode": {
    "name": "ipython",
    "version": 3
   },
   "file_extension": ".py",
   "mimetype": "text/x-python",
   "name": "python",
   "nbconvert_exporter": "python",
   "pygments_lexer": "ipython3",
   "version": "3.8.13"
  }
 },
 "nbformat": 4,
 "nbformat_minor": 5
}
